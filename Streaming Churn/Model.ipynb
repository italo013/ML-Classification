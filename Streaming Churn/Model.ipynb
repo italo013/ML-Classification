{
 "cells": [
  {
   "attachments": {},
   "cell_type": "markdown",
   "metadata": {},
   "source": [
    "# Desafio: Preveja os usuários com alta chance de deixar seu Streaming"
   ]
  },
  {
   "attachments": {},
   "cell_type": "markdown",
   "metadata": {},
   "source": [
    "# Contexto - Introdução"
   ]
  },
  {
   "attachments": {},
   "cell_type": "markdown",
   "metadata": {},
   "source": [
    "Você trabalha em uma plataforma de streaming e a diretoria está preocupada com o alto índice de usuários cancelando as suas assinaturas. Eles acreditam que é possível prever se um usuário tem mais chance de deixar a plataforma antes que isso aconteça, e com base nessa informação tomar ações para reduzir o churn.\n",
    "\n",
    "Seu objetivo é criar um modelo de classificação capaz de prever se um usuário tem mais chance de cancelar a sua assinatura na plataforma ou não. Para isso, a empresa forneceu uma base de dados em csv contendo dados sobre as contas dos clientes."
   ]
  },
  {
   "attachments": {},
   "cell_type": "markdown",
   "metadata": {},
   "source": [
    "# Sobre os dados"
   ]
  },
  {
   "attachments": {},
   "cell_type": "markdown",
   "metadata": {},
   "source": [
    "Os dados fornecidos possuem informações sobre as contas dos clientes na plataforma de streaming, divididos entre contas Basic, Standard e Premium, onde cada uma oferece uma gama maior de serviços que a anterior.\n",
    "\n",
    "| Coluna    | Descrição              | Tipo |\n",
    "|-----------|------------------------|------|\n",
    "| client_id   | Código de identificação do cliente | Int |\n",
    "| age         | Idade do cliente | Int |\n",
    "| gender      | Gênero do cliente | String |\n",
    "| region      | Região de origem do cliente | String |\n",
    "| subscription_days | Dias de assinatura ativa do cliente | Int |\n",
    "| subscription_type | Tipo de conta | String |\n",
    "| num_contents | Quantidade de conteúdos assistidos | Int |\n",
    "| avg_rating | Avaliação média dos conteúdos da plataforma | Int |\n",
    "| num_active_profiles | Número de perfis ativos na plataforma | Int |\n",
    "| num_streaming_services | Quantidade de serviços de streaming que o cliente possui | Int |\n",
    "| devices_connected | Quantidade de dispositivos conectados à conta | Int |\n",
    "| churned | Se o cliente cancelou a conta ou não | Int |"
   ]
  },
  {
   "attachments": {},
   "cell_type": "markdown",
   "metadata": {},
   "source": [
    "# Importando as Bibliotecas"
   ]
  },
  {
   "cell_type": "code",
   "execution_count": 8,
   "metadata": {},
   "outputs": [],
   "source": [
    "#Manipulação de Dados\n",
    "import pandas as pd\n",
    "import numpy as np\n",
    "\n",
    "#Visualização\n",
    "import plotly.express as px\n",
    "import plotly.subplots as sp\n",
    "import plotly.graph_objs as go\n",
    "import plotly.figure_factory as ff\n",
    "from plotly.subplots            import make_subplots\n",
    "\n",
    "#Modelo\n",
    "from sklearn.model_selection import train_test_split\n",
    "from sklearn.linear_model import LinearRegression\n",
    "from sklearn.metrics import mean_squared_error, r2_score\n",
    "\n",
    "#Display\n",
    "import warnings\n",
    "from IPython.display            import Markdown"
   ]
  },
  {
   "attachments": {},
   "cell_type": "markdown",
   "metadata": {},
   "source": [
    "# Funções Auxiliares e Configurações"
   ]
  },
  {
   "cell_type": "code",
   "execution_count": 9,
   "metadata": {},
   "outputs": [],
   "source": [
    "warnings.filterwarnings(\"ignore\")\n",
    "pd.options.display.float_format = '{:.2f}'.format\n",
    "\n",
    "def df_informations(df):\n",
    "    # Cria um Dataframe com as informações relativas ao Dataset\n",
    "    df_info = pd.DataFrame({'Not Null': df.notnull().sum(),\n",
    "                            'Null': df.isnull().sum(),\n",
    "                            'Perce Null': df.isnull().sum() / len(df),\n",
    "                            'Unique': df.nunique(),\n",
    "                            'Dtype': df.dtypes\n",
    "                })\n",
    "    \n",
    "    # Cria outro Dataframe com todos os types do df\n",
    "    df_dtype = df_info['Dtype'].value_counts().reset_index()\n",
    "    df_dtype.columns = ['Dtype', 'Count']\n",
    "    df_dtype['Perce'] = round(df_dtype['Count'] / df_dtype['Count'].sum(), 2)\n",
    "    \n",
    "    # Verificando se tem linhas duplicadas\n",
    "    duplicado = df.duplicated().sum()\n",
    "    mensagem = 'Não possui linhas duplicadas.' if duplicado == 0 else f\"Tem {duplicado} linhas duplicadas, o que representa {round(duplicado/len(df)*100, 2)}% do total de linhas.\"\n",
    "\n",
    "    # Texto automático das dimensões do df\n",
    "    text = f'Dataset tem {df.shape[0]} linhas e {df.shape[1]} colunas. {mensagem} Sobre o dataset, temos:'\n",
    "\n",
    "    # Colore os Dataframes\n",
    "    df_info = df_info.style.background_gradient(cmap='jet', subset=['Perce Null']).format({'Perce Null': '{:.2%}'})\n",
    "    df_dtype = df_dtype.style.background_gradient(cmap='YlGn', subset=['Perce']).format({'Perce': '{:.2%}'})\n",
    "\n",
    "    # Texto final com Markdown\n",
    "    display(Markdown(\"<H3 style='text-align:left;float:lfet;'>Informações sobre o Dataset\"))\n",
    "    display(Markdown(f'<H5> {text}'))\n",
    "    display(df_info)\n",
    "    display(Markdown(\"<H3 style='text-align:left;float:lfet;'>Sobre Dtypes, temos:\"))\n",
    "    display(df_dtype)\n",
    "    display(Markdown(\"<H3 style='text-align:left;float:lfet;'>Estatística Descritiva\"))\n",
    "    display(df.describe(percentiles=[0.01, 0.25, 0.5, 0.75, 0.99]).T)\n",
    "\n",
    "def plot_distribution_and_boxplot(df):\n",
    "    # Obtém a lista de colunas numéricas\n",
    "    num_cols = df.select_dtypes(include=[np.number]).columns\n",
    "    \n",
    "    # Cria a lista de títulos para os subplots\n",
    "    subplot_titles = [title for col in num_cols for title in [f\"Histograma - {col}\", f\"Boxplot - {col}\"]]\n",
    "    \n",
    "    # Cria a figura com subplots\n",
    "    fig = sp.make_subplots(rows=len(num_cols), cols=2, subplot_titles=subplot_titles)\n",
    "    \n",
    "    # Define cores\n",
    "    colors = ['blue', 'red', 'green', 'purple', 'orange', 'brown', 'pink', 'yellow', 'cyan', 'magenta', \n",
    "              'lime', 'lavender', 'maroon', 'navy', 'olive', 'teal', 'aqua', 'fuchsia', 'gray', 'silver']\n",
    "    \n",
    "    # Adiciona os gráficos à figura para cada coluna numérica\n",
    "    for i, col in enumerate(num_cols, start=1):\n",
    "        # Define a cor usando a lógica de ciclagem\n",
    "        color = colors[i % len(colors)]\n",
    "        \n",
    "        # Adiciona o histograma\n",
    "        fig.add_trace(go.Histogram(x=df[col], nbinsx=40, marker_color=color, \n",
    "                                    showlegend=False),\n",
    "                      row=i, col=1)\n",
    "        \n",
    "        # Adiciona o boxplot\n",
    "        fig.add_trace(go.Box(y=df[col], marker_color=color, showlegend=False),\n",
    "                      row=i, col=2)\n",
    "    \n",
    "    # Configura o layout\n",
    "    fig.update_layout(height=300*len(num_cols), title_text=\"Distribuição e Boxplot para cada variável numérica\")\n",
    "    fig.show()\n",
    "\n",
    "def calculate_iqr(df):\n",
    "    # Define um DataFrame vazio para armazenar os resultados\n",
    "    iqr_df = pd.DataFrame(columns=['Coluna', 'Q1', 'Q3', 'IQR', 'Lower Bound', 'Upper Bound', 'Min', 'Max'])\n",
    "    \n",
    "    for col in df.columns:\n",
    "        if np.issubdtype(df[col].dtype, np.number):  # Se a coluna for numérica\n",
    "            Q1 = df[col].quantile(0.25)\n",
    "            Q3 = df[col].quantile(0.75)\n",
    "            IQR = Q3 - Q1\n",
    "            lower_bound = Q1 - 1.5 * IQR\n",
    "            upper_bound = Q3 + 1.5 * IQR\n",
    "            min_val = df[col].min() # valor mínimo\n",
    "            max_val = df[col].max() # valor máximo\n",
    "            # Cria um dicionário temporário com os dados\n",
    "            temp_dict = {'Coluna': col, 'Q1': Q1, 'Q3': Q3, 'IQR': IQR, \n",
    "                         'Lower Bound': lower_bound, 'Upper Bound': upper_bound, \n",
    "                         'Min': min_val, 'Max': max_val}\n",
    "            # Cria um DataFrame temporário a partir do dicionário\n",
    "            temp_df = pd.DataFrame([temp_dict])\n",
    "            # Concatena este DataFrame temporário com o DataFrame principal\n",
    "            iqr_df = pd.concat([iqr_df, temp_df], ignore_index=True)\n",
    "    return iqr_df\n",
    "\n",
    "def plot_boxplots(df):\n",
    "    # Calcula o número de linhas para os subplots\n",
    "    num_rows = math.ceil(len(df.columns) / 2)\n",
    "\n",
    "    # Cria a figura com subplots\n",
    "    fig = make_subplots(rows=num_rows, cols=2)\n",
    "\n",
    "    # Adiciona os boxplots à figura para cada coluna numérica\n",
    "    for i, col in enumerate(df.columns, start=1):\n",
    "        fig.add_trace(\n",
    "            go.Box(\n",
    "                y=df[col], \n",
    "                name=col, \n",
    "                boxmean=True, \n",
    "                showlegend=False\n",
    "            ), \n",
    "            row=(i-1)//2 + 1, \n",
    "            col=((i-1)%2) + 1\n",
    "        )\n",
    "\n",
    "    # Atualiza o layout da figura\n",
    "    fig.update_layout(height=400*num_rows, title_text=\"Boxplot de cada coluna numérica\")\n",
    "\n",
    "    # Mostra a figura\n",
    "    fig.show()\n",
    "\n",
    "def update_graph2(m1, m2, b):\n",
    "    # Gerando a superfície de previsão\n",
    "    x1_range = np.linspace(x1.min(), x1.max(), 100)\n",
    "    x2_range = np.linspace(x2.min(), x2.max(), 100)\n",
    "    x1_values, x2_values = np.meshgrid(x1_range, x2_range)\n",
    "    y_pred = m1*x1_values + m2*x2_values + b\n",
    "\n",
    "    # Criando o gráfico\n",
    "    fig = go.Figure()\n",
    "    fig.add_trace(go.Scatter3d(x=x1.squeeze(), y=x2.squeeze(), z=y2.squeeze(), mode='markers', name='Dados'))\n",
    "    fig.add_trace(go.Surface(x=x1_range, y=x2_range, z=y_pred, opacity=0.7, name='Superfície de Regressão'))\n",
    "\n",
    "    fig.update_layout(  title=\"Demonstração de Regressão Linear Múltipla\",\n",
    "                        scene=dict(\n",
    "                        xaxis_title='X1',\n",
    "                        yaxis_title='X2',\n",
    "                        zaxis_title='Y'\n",
    "    ),\n",
    "    #width=1000, # Altera a largura do gráfico\n",
    "    height=750 # Altera a altura do gráfico\n",
    "    )\n",
    "\n",
    "    return fig\n"
   ]
  },
  {
   "attachments": {},
   "cell_type": "markdown",
   "metadata": {},
   "source": [
    "# Importando o Dataset"
   ]
  },
  {
   "cell_type": "code",
   "execution_count": 10,
   "metadata": {},
   "outputs": [
    {
     "data": {
      "text/html": [
       "<div>\n",
       "<style scoped>\n",
       "    .dataframe tbody tr th:only-of-type {\n",
       "        vertical-align: middle;\n",
       "    }\n",
       "\n",
       "    .dataframe tbody tr th {\n",
       "        vertical-align: top;\n",
       "    }\n",
       "\n",
       "    .dataframe thead th {\n",
       "        text-align: right;\n",
       "    }\n",
       "</style>\n",
       "<table border=\"1\" class=\"dataframe\">\n",
       "  <thead>\n",
       "    <tr style=\"text-align: right;\">\n",
       "      <th></th>\n",
       "      <th>Age</th>\n",
       "      <th>Gender</th>\n",
       "      <th>Time_on_platform</th>\n",
       "      <th>Devices_connected</th>\n",
       "      <th>Subscription_type</th>\n",
       "      <th>Num_streaming_services</th>\n",
       "      <th>Num_active_profiles</th>\n",
       "      <th>Avg_rating</th>\n",
       "      <th>Churned</th>\n",
       "      <th>User_id</th>\n",
       "    </tr>\n",
       "  </thead>\n",
       "  <tbody>\n",
       "    <tr>\n",
       "      <th>0</th>\n",
       "      <td>49.00</td>\n",
       "      <td>Male</td>\n",
       "      <td>4700.00</td>\n",
       "      <td>3.00</td>\n",
       "      <td>Basic</td>\n",
       "      <td>NaN</td>\n",
       "      <td>3</td>\n",
       "      <td>NaN</td>\n",
       "      <td>0.00</td>\n",
       "      <td>a271aa56-bcfc-4f0a-91f7-b773de6b86a4</td>\n",
       "    </tr>\n",
       "    <tr>\n",
       "      <th>1</th>\n",
       "      <td>69.00</td>\n",
       "      <td>Female</td>\n",
       "      <td>6107.00</td>\n",
       "      <td>2.00</td>\n",
       "      <td>Standard</td>\n",
       "      <td>NaN</td>\n",
       "      <td>1</td>\n",
       "      <td>2.14</td>\n",
       "      <td>0.00</td>\n",
       "      <td>fe14b048-770b-4619-8ec6-485b0969ae31</td>\n",
       "    </tr>\n",
       "    <tr>\n",
       "      <th>2</th>\n",
       "      <td>44.00</td>\n",
       "      <td>Male</td>\n",
       "      <td>6374.00</td>\n",
       "      <td>3.00</td>\n",
       "      <td>Premium</td>\n",
       "      <td>1.00</td>\n",
       "      <td>1</td>\n",
       "      <td>1.91</td>\n",
       "      <td>1.00</td>\n",
       "      <td>0283dffd-6684-4a05-9c6f-c02098a6849d</td>\n",
       "    </tr>\n",
       "    <tr>\n",
       "      <th>3</th>\n",
       "      <td>26.00</td>\n",
       "      <td>Male</td>\n",
       "      <td>NaN</td>\n",
       "      <td>5.00</td>\n",
       "      <td>Basic</td>\n",
       "      <td>NaN</td>\n",
       "      <td>2</td>\n",
       "      <td>NaN</td>\n",
       "      <td>NaN</td>\n",
       "      <td>c316f2f5-3403-4a0a-82c2-c98e4b3379d2</td>\n",
       "    </tr>\n",
       "    <tr>\n",
       "      <th>4</th>\n",
       "      <td>18.00</td>\n",
       "      <td>NaN</td>\n",
       "      <td>1948.00</td>\n",
       "      <td>3.00</td>\n",
       "      <td>Basic</td>\n",
       "      <td>NaN</td>\n",
       "      <td>3</td>\n",
       "      <td>3.88</td>\n",
       "      <td>0.00</td>\n",
       "      <td>14879bcb-1977-4ad8-a7f9-6aa9bf7b872f</td>\n",
       "    </tr>\n",
       "    <tr>\n",
       "      <th>...</th>\n",
       "      <td>...</td>\n",
       "      <td>...</td>\n",
       "      <td>...</td>\n",
       "      <td>...</td>\n",
       "      <td>...</td>\n",
       "      <td>...</td>\n",
       "      <td>...</td>\n",
       "      <td>...</td>\n",
       "      <td>...</td>\n",
       "      <td>...</td>\n",
       "    </tr>\n",
       "    <tr>\n",
       "      <th>77879</th>\n",
       "      <td>45.00</td>\n",
       "      <td>Male</td>\n",
       "      <td>NaN</td>\n",
       "      <td>NaN</td>\n",
       "      <td>Basic</td>\n",
       "      <td>NaN</td>\n",
       "      <td>5</td>\n",
       "      <td>2.20</td>\n",
       "      <td>0.00</td>\n",
       "      <td>6b51fe0d-d4a1-41ed-a55c-d05f5c961e3c</td>\n",
       "    </tr>\n",
       "    <tr>\n",
       "      <th>77880</th>\n",
       "      <td>47.00</td>\n",
       "      <td>Female</td>\n",
       "      <td>6176.00</td>\n",
       "      <td>NaN</td>\n",
       "      <td>Premium</td>\n",
       "      <td>NaN</td>\n",
       "      <td>2</td>\n",
       "      <td>4.54</td>\n",
       "      <td>0.00</td>\n",
       "      <td>59d70167-6be0-474c-b71e-14153205b44f</td>\n",
       "    </tr>\n",
       "    <tr>\n",
       "      <th>77881</th>\n",
       "      <td>64.00</td>\n",
       "      <td>Female</td>\n",
       "      <td>NaN</td>\n",
       "      <td>5.00</td>\n",
       "      <td>Premium</td>\n",
       "      <td>NaN</td>\n",
       "      <td>1</td>\n",
       "      <td>4.34</td>\n",
       "      <td>1.00</td>\n",
       "      <td>a7d5ed26-78a4-4e70-bd04-0fec883e56aa</td>\n",
       "    </tr>\n",
       "    <tr>\n",
       "      <th>77882</th>\n",
       "      <td>58.00</td>\n",
       "      <td>Male</td>\n",
       "      <td>1314.00</td>\n",
       "      <td>5.00</td>\n",
       "      <td>Standard</td>\n",
       "      <td>NaN</td>\n",
       "      <td>4</td>\n",
       "      <td>NaN</td>\n",
       "      <td>0.00</td>\n",
       "      <td>472e9e70-87ca-4c5e-bfee-fa9f42b54f51</td>\n",
       "    </tr>\n",
       "    <tr>\n",
       "      <th>77883</th>\n",
       "      <td>68.00</td>\n",
       "      <td>Female</td>\n",
       "      <td>7078.00</td>\n",
       "      <td>1.00</td>\n",
       "      <td>Standard</td>\n",
       "      <td>NaN</td>\n",
       "      <td>5</td>\n",
       "      <td>1.68</td>\n",
       "      <td>0.00</td>\n",
       "      <td>f8450244-52b1-4303-9275-00a1d4fbc331</td>\n",
       "    </tr>\n",
       "  </tbody>\n",
       "</table>\n",
       "<p>77884 rows × 10 columns</p>\n",
       "</div>"
      ],
      "text/plain": [
       "        Age  Gender  Time_on_platform  Devices_connected Subscription_type   \n",
       "0     49.00    Male           4700.00               3.00             Basic  \\\n",
       "1     69.00  Female           6107.00               2.00          Standard   \n",
       "2     44.00    Male           6374.00               3.00           Premium   \n",
       "3     26.00    Male               NaN               5.00             Basic   \n",
       "4     18.00     NaN           1948.00               3.00             Basic   \n",
       "...     ...     ...               ...                ...               ...   \n",
       "77879 45.00    Male               NaN                NaN             Basic   \n",
       "77880 47.00  Female           6176.00                NaN           Premium   \n",
       "77881 64.00  Female               NaN               5.00           Premium   \n",
       "77882 58.00    Male           1314.00               5.00          Standard   \n",
       "77883 68.00  Female           7078.00               1.00          Standard   \n",
       "\n",
       "       Num_streaming_services  Num_active_profiles  Avg_rating  Churned   \n",
       "0                         NaN                    3         NaN     0.00  \\\n",
       "1                         NaN                    1        2.14     0.00   \n",
       "2                        1.00                    1        1.91     1.00   \n",
       "3                         NaN                    2         NaN      NaN   \n",
       "4                         NaN                    3        3.88     0.00   \n",
       "...                       ...                  ...         ...      ...   \n",
       "77879                     NaN                    5        2.20     0.00   \n",
       "77880                     NaN                    2        4.54     0.00   \n",
       "77881                     NaN                    1        4.34     1.00   \n",
       "77882                     NaN                    4         NaN     0.00   \n",
       "77883                     NaN                    5        1.68     0.00   \n",
       "\n",
       "                                    User_id  \n",
       "0      a271aa56-bcfc-4f0a-91f7-b773de6b86a4  \n",
       "1      fe14b048-770b-4619-8ec6-485b0969ae31  \n",
       "2      0283dffd-6684-4a05-9c6f-c02098a6849d  \n",
       "3      c316f2f5-3403-4a0a-82c2-c98e4b3379d2  \n",
       "4      14879bcb-1977-4ad8-a7f9-6aa9bf7b872f  \n",
       "...                                     ...  \n",
       "77879  6b51fe0d-d4a1-41ed-a55c-d05f5c961e3c  \n",
       "77880  59d70167-6be0-474c-b71e-14153205b44f  \n",
       "77881  a7d5ed26-78a4-4e70-bd04-0fec883e56aa  \n",
       "77882  472e9e70-87ca-4c5e-bfee-fa9f42b54f51  \n",
       "77883  f8450244-52b1-4303-9275-00a1d4fbc331  \n",
       "\n",
       "[77884 rows x 10 columns]"
      ]
     },
     "execution_count": 10,
     "metadata": {},
     "output_type": "execute_result"
    }
   ],
   "source": [
    "df = pd.read_csv('streaming_data.csv')\n",
    "df"
   ]
  },
  {
   "attachments": {},
   "cell_type": "markdown",
   "metadata": {},
   "source": [
    "# Etapas de Desenvolvimento\n",
    "\n",
    "Para te ajudar nesse processo, detalhar o processo nas etapas a seguir:"
   ]
  },
  {
   "attachments": {},
   "cell_type": "markdown",
   "metadata": {},
   "source": [
    "## Etapa 01) Análise exploratória dos dados (Data Understanding)\n",
    "\n",
    "a. Carregue a base de dados;\n",
    "\n",
    "b. Realize uma descrição estatística dos dados;\n",
    "\n",
    "c. Verifique os tipos de dados\n",
    "\n",
    "d. Verifique a quantidade de valores faltantes"
   ]
  },
  {
   "attachments": {},
   "cell_type": "markdown",
   "metadata": {},
   "source": [
    "### Análise Descritiva do Dataset"
   ]
  },
  {
   "cell_type": "code",
   "execution_count": 11,
   "metadata": {},
   "outputs": [
    {
     "data": {
      "text/markdown": [
       "<H3 style='text-align:left;float:lfet;'>Informações sobre o Dataset"
      ],
      "text/plain": [
       "<IPython.core.display.Markdown object>"
      ]
     },
     "metadata": {},
     "output_type": "display_data"
    },
    {
     "data": {
      "text/markdown": [
       "<H5> Dataset tem 77884 linhas e 10 colunas. Tem 12403 linhas duplicadas, o que representa 15.92% do total de linhas. Sobre o dataset, temos:"
      ],
      "text/plain": [
       "<IPython.core.display.Markdown object>"
      ]
     },
     "metadata": {},
     "output_type": "display_data"
    },
    {
     "data": {
      "text/html": [
       "<style type=\"text/css\">\n",
       "#T_83978_row0_col2 {\n",
       "  background-color: #0028ff;\n",
       "  color: #f1f1f1;\n",
       "}\n",
       "#T_83978_row1_col2 {\n",
       "  background-color: #0058ff;\n",
       "  color: #f1f1f1;\n",
       "}\n",
       "#T_83978_row2_col2 {\n",
       "  background-color: #00c0ff;\n",
       "  color: #000000;\n",
       "}\n",
       "#T_83978_row3_col2, #T_83978_row4_col2 {\n",
       "  background-color: #0ff8e7;\n",
       "  color: #000000;\n",
       "}\n",
       "#T_83978_row5_col2 {\n",
       "  background-color: #800000;\n",
       "  color: #f1f1f1;\n",
       "}\n",
       "#T_83978_row6_col2, #T_83978_row9_col2 {\n",
       "  background-color: #000080;\n",
       "  color: #f1f1f1;\n",
       "}\n",
       "#T_83978_row7_col2 {\n",
       "  background-color: #0080ff;\n",
       "  color: #f1f1f1;\n",
       "}\n",
       "#T_83978_row8_col2 {\n",
       "  background-color: #0078ff;\n",
       "  color: #f1f1f1;\n",
       "}\n",
       "</style>\n",
       "<table id=\"T_83978\">\n",
       "  <thead>\n",
       "    <tr>\n",
       "      <th class=\"blank level0\" >&nbsp;</th>\n",
       "      <th id=\"T_83978_level0_col0\" class=\"col_heading level0 col0\" >Not Null</th>\n",
       "      <th id=\"T_83978_level0_col1\" class=\"col_heading level0 col1\" >Null</th>\n",
       "      <th id=\"T_83978_level0_col2\" class=\"col_heading level0 col2\" >Perce Null</th>\n",
       "      <th id=\"T_83978_level0_col3\" class=\"col_heading level0 col3\" >Unique</th>\n",
       "      <th id=\"T_83978_level0_col4\" class=\"col_heading level0 col4\" >Dtype</th>\n",
       "    </tr>\n",
       "  </thead>\n",
       "  <tbody>\n",
       "    <tr>\n",
       "      <th id=\"T_83978_level0_row0\" class=\"row_heading level0 row0\" >Age</th>\n",
       "      <td id=\"T_83978_row0_col0\" class=\"data row0 col0\" >66607</td>\n",
       "      <td id=\"T_83978_row0_col1\" class=\"data row0 col1\" >11277</td>\n",
       "      <td id=\"T_83978_row0_col2\" class=\"data row0 col2\" >14.48%</td>\n",
       "      <td id=\"T_83978_row0_col3\" class=\"data row0 col3\" >52</td>\n",
       "      <td id=\"T_83978_row0_col4\" class=\"data row0 col4\" >float64</td>\n",
       "    </tr>\n",
       "    <tr>\n",
       "      <th id=\"T_83978_level0_row1\" class=\"row_heading level0 row1\" >Gender</th>\n",
       "      <td id=\"T_83978_row1_col0\" class=\"data row1 col0\" >63368</td>\n",
       "      <td id=\"T_83978_row1_col1\" class=\"data row1 col1\" >14516</td>\n",
       "      <td id=\"T_83978_row1_col2\" class=\"data row1 col2\" >18.64%</td>\n",
       "      <td id=\"T_83978_row1_col3\" class=\"data row1 col3\" >2</td>\n",
       "      <td id=\"T_83978_row1_col4\" class=\"data row1 col4\" >object</td>\n",
       "    </tr>\n",
       "    <tr>\n",
       "      <th id=\"T_83978_level0_row2\" class=\"row_heading level0 row2\" >Time_on_platform</th>\n",
       "      <td id=\"T_83978_row2_col0\" class=\"data row2 col0\" >56464</td>\n",
       "      <td id=\"T_83978_row2_col1\" class=\"data row2 col1\" >21420</td>\n",
       "      <td id=\"T_83978_row2_col2\" class=\"data row2 col2\" >27.50%</td>\n",
       "      <td id=\"T_83978_row2_col3\" class=\"data row2 col3\" >8721</td>\n",
       "      <td id=\"T_83978_row2_col4\" class=\"data row2 col4\" >float64</td>\n",
       "    </tr>\n",
       "    <tr>\n",
       "      <th id=\"T_83978_level0_row3\" class=\"row_heading level0 row3\" >Devices_connected</th>\n",
       "      <td id=\"T_83978_row3_col0\" class=\"data row3 col0\" >52696</td>\n",
       "      <td id=\"T_83978_row3_col1\" class=\"data row3 col1\" >25188</td>\n",
       "      <td id=\"T_83978_row3_col2\" class=\"data row3 col2\" >32.34%</td>\n",
       "      <td id=\"T_83978_row3_col3\" class=\"data row3 col3\" >5</td>\n",
       "      <td id=\"T_83978_row3_col4\" class=\"data row3 col4\" >float64</td>\n",
       "    </tr>\n",
       "    <tr>\n",
       "      <th id=\"T_83978_level0_row4\" class=\"row_heading level0 row4\" >Subscription_type</th>\n",
       "      <td id=\"T_83978_row4_col0\" class=\"data row4 col0\" >52663</td>\n",
       "      <td id=\"T_83978_row4_col1\" class=\"data row4 col1\" >25221</td>\n",
       "      <td id=\"T_83978_row4_col2\" class=\"data row4 col2\" >32.38%</td>\n",
       "      <td id=\"T_83978_row4_col3\" class=\"data row4 col3\" >3</td>\n",
       "      <td id=\"T_83978_row4_col4\" class=\"data row4 col4\" >object</td>\n",
       "    </tr>\n",
       "    <tr>\n",
       "      <th id=\"T_83978_level0_row5\" class=\"row_heading level0 row5\" >Num_streaming_services</th>\n",
       "      <td id=\"T_83978_row5_col0\" class=\"data row5 col0\" >9572</td>\n",
       "      <td id=\"T_83978_row5_col1\" class=\"data row5 col1\" >68312</td>\n",
       "      <td id=\"T_83978_row5_col2\" class=\"data row5 col2\" >87.71%</td>\n",
       "      <td id=\"T_83978_row5_col3\" class=\"data row5 col3\" >4</td>\n",
       "      <td id=\"T_83978_row5_col4\" class=\"data row5 col4\" >float64</td>\n",
       "    </tr>\n",
       "    <tr>\n",
       "      <th id=\"T_83978_level0_row6\" class=\"row_heading level0 row6\" >Num_active_profiles</th>\n",
       "      <td id=\"T_83978_row6_col0\" class=\"data row6 col0\" >77884</td>\n",
       "      <td id=\"T_83978_row6_col1\" class=\"data row6 col1\" >0</td>\n",
       "      <td id=\"T_83978_row6_col2\" class=\"data row6 col2\" >0.00%</td>\n",
       "      <td id=\"T_83978_row6_col3\" class=\"data row6 col3\" >5</td>\n",
       "      <td id=\"T_83978_row6_col4\" class=\"data row6 col4\" >int64</td>\n",
       "    </tr>\n",
       "    <tr>\n",
       "      <th id=\"T_83978_level0_row7\" class=\"row_heading level0 row7\" >Avg_rating</th>\n",
       "      <td id=\"T_83978_row7_col0\" class=\"data row7 col0\" >60614</td>\n",
       "      <td id=\"T_83978_row7_col1\" class=\"data row7 col1\" >17270</td>\n",
       "      <td id=\"T_83978_row7_col2\" class=\"data row7 col2\" >22.17%</td>\n",
       "      <td id=\"T_83978_row7_col3\" class=\"data row7 col3\" >401</td>\n",
       "      <td id=\"T_83978_row7_col4\" class=\"data row7 col4\" >float64</td>\n",
       "    </tr>\n",
       "    <tr>\n",
       "      <th id=\"T_83978_level0_row8\" class=\"row_heading level0 row8\" >Churned</th>\n",
       "      <td id=\"T_83978_row8_col0\" class=\"data row8 col0\" >61148</td>\n",
       "      <td id=\"T_83978_row8_col1\" class=\"data row8 col1\" >16736</td>\n",
       "      <td id=\"T_83978_row8_col2\" class=\"data row8 col2\" >21.49%</td>\n",
       "      <td id=\"T_83978_row8_col3\" class=\"data row8 col3\" >2</td>\n",
       "      <td id=\"T_83978_row8_col4\" class=\"data row8 col4\" >float64</td>\n",
       "    </tr>\n",
       "    <tr>\n",
       "      <th id=\"T_83978_level0_row9\" class=\"row_heading level0 row9\" >User_id</th>\n",
       "      <td id=\"T_83978_row9_col0\" class=\"data row9 col0\" >77884</td>\n",
       "      <td id=\"T_83978_row9_col1\" class=\"data row9 col1\" >0</td>\n",
       "      <td id=\"T_83978_row9_col2\" class=\"data row9 col2\" >0.00%</td>\n",
       "      <td id=\"T_83978_row9_col3\" class=\"data row9 col3\" >65481</td>\n",
       "      <td id=\"T_83978_row9_col4\" class=\"data row9 col4\" >object</td>\n",
       "    </tr>\n",
       "  </tbody>\n",
       "</table>\n"
      ],
      "text/plain": [
       "<pandas.io.formats.style.Styler at 0x1e59538e690>"
      ]
     },
     "metadata": {},
     "output_type": "display_data"
    },
    {
     "data": {
      "text/markdown": [
       "<H3 style='text-align:left;float:lfet;'>Sobre Dtypes, temos:"
      ],
      "text/plain": [
       "<IPython.core.display.Markdown object>"
      ]
     },
     "metadata": {},
     "output_type": "display_data"
    },
    {
     "data": {
      "text/html": [
       "<style type=\"text/css\">\n",
       "#T_99c71_row0_col2 {\n",
       "  background-color: #004529;\n",
       "  color: #f1f1f1;\n",
       "}\n",
       "#T_99c71_row1_col2 {\n",
       "  background-color: #a2d88a;\n",
       "  color: #000000;\n",
       "}\n",
       "#T_99c71_row2_col2 {\n",
       "  background-color: #ffffe5;\n",
       "  color: #000000;\n",
       "}\n",
       "</style>\n",
       "<table id=\"T_99c71\">\n",
       "  <thead>\n",
       "    <tr>\n",
       "      <th class=\"blank level0\" >&nbsp;</th>\n",
       "      <th id=\"T_99c71_level0_col0\" class=\"col_heading level0 col0\" >Dtype</th>\n",
       "      <th id=\"T_99c71_level0_col1\" class=\"col_heading level0 col1\" >Count</th>\n",
       "      <th id=\"T_99c71_level0_col2\" class=\"col_heading level0 col2\" >Perce</th>\n",
       "    </tr>\n",
       "  </thead>\n",
       "  <tbody>\n",
       "    <tr>\n",
       "      <th id=\"T_99c71_level0_row0\" class=\"row_heading level0 row0\" >0</th>\n",
       "      <td id=\"T_99c71_row0_col0\" class=\"data row0 col0\" >float64</td>\n",
       "      <td id=\"T_99c71_row0_col1\" class=\"data row0 col1\" >6</td>\n",
       "      <td id=\"T_99c71_row0_col2\" class=\"data row0 col2\" >60.00%</td>\n",
       "    </tr>\n",
       "    <tr>\n",
       "      <th id=\"T_99c71_level0_row1\" class=\"row_heading level0 row1\" >1</th>\n",
       "      <td id=\"T_99c71_row1_col0\" class=\"data row1 col0\" >object</td>\n",
       "      <td id=\"T_99c71_row1_col1\" class=\"data row1 col1\" >3</td>\n",
       "      <td id=\"T_99c71_row1_col2\" class=\"data row1 col2\" >30.00%</td>\n",
       "    </tr>\n",
       "    <tr>\n",
       "      <th id=\"T_99c71_level0_row2\" class=\"row_heading level0 row2\" >2</th>\n",
       "      <td id=\"T_99c71_row2_col0\" class=\"data row2 col0\" >int64</td>\n",
       "      <td id=\"T_99c71_row2_col1\" class=\"data row2 col1\" >1</td>\n",
       "      <td id=\"T_99c71_row2_col2\" class=\"data row2 col2\" >10.00%</td>\n",
       "    </tr>\n",
       "  </tbody>\n",
       "</table>\n"
      ],
      "text/plain": [
       "<pandas.io.formats.style.Styler at 0x1e590a67650>"
      ]
     },
     "metadata": {},
     "output_type": "display_data"
    },
    {
     "data": {
      "text/markdown": [
       "<H3 style='text-align:left;float:lfet;'>Estatística Descritiva"
      ],
      "text/plain": [
       "<IPython.core.display.Markdown object>"
      ]
     },
     "metadata": {},
     "output_type": "display_data"
    },
    {
     "data": {
      "text/html": [
       "<div>\n",
       "<style scoped>\n",
       "    .dataframe tbody tr th:only-of-type {\n",
       "        vertical-align: middle;\n",
       "    }\n",
       "\n",
       "    .dataframe tbody tr th {\n",
       "        vertical-align: top;\n",
       "    }\n",
       "\n",
       "    .dataframe thead th {\n",
       "        text-align: right;\n",
       "    }\n",
       "</style>\n",
       "<table border=\"1\" class=\"dataframe\">\n",
       "  <thead>\n",
       "    <tr style=\"text-align: right;\">\n",
       "      <th></th>\n",
       "      <th>count</th>\n",
       "      <th>mean</th>\n",
       "      <th>std</th>\n",
       "      <th>min</th>\n",
       "      <th>1%</th>\n",
       "      <th>25%</th>\n",
       "      <th>50%</th>\n",
       "      <th>75%</th>\n",
       "      <th>99%</th>\n",
       "      <th>max</th>\n",
       "    </tr>\n",
       "  </thead>\n",
       "  <tbody>\n",
       "    <tr>\n",
       "      <th>Age</th>\n",
       "      <td>66607.00</td>\n",
       "      <td>43.51</td>\n",
       "      <td>15.04</td>\n",
       "      <td>18.00</td>\n",
       "      <td>18.00</td>\n",
       "      <td>30.00</td>\n",
       "      <td>43.00</td>\n",
       "      <td>57.00</td>\n",
       "      <td>69.00</td>\n",
       "      <td>69.00</td>\n",
       "    </tr>\n",
       "    <tr>\n",
       "      <th>Time_on_platform</th>\n",
       "      <td>56464.00</td>\n",
       "      <td>4385.85</td>\n",
       "      <td>2526.58</td>\n",
       "      <td>0.00</td>\n",
       "      <td>82.00</td>\n",
       "      <td>2196.00</td>\n",
       "      <td>4384.00</td>\n",
       "      <td>6573.00</td>\n",
       "      <td>8675.00</td>\n",
       "      <td>8759.00</td>\n",
       "    </tr>\n",
       "    <tr>\n",
       "      <th>Devices_connected</th>\n",
       "      <td>52696.00</td>\n",
       "      <td>3.00</td>\n",
       "      <td>1.41</td>\n",
       "      <td>1.00</td>\n",
       "      <td>1.00</td>\n",
       "      <td>2.00</td>\n",
       "      <td>3.00</td>\n",
       "      <td>4.00</td>\n",
       "      <td>5.00</td>\n",
       "      <td>5.00</td>\n",
       "    </tr>\n",
       "    <tr>\n",
       "      <th>Num_streaming_services</th>\n",
       "      <td>9572.00</td>\n",
       "      <td>2.50</td>\n",
       "      <td>1.12</td>\n",
       "      <td>1.00</td>\n",
       "      <td>1.00</td>\n",
       "      <td>1.00</td>\n",
       "      <td>2.00</td>\n",
       "      <td>4.00</td>\n",
       "      <td>4.00</td>\n",
       "      <td>4.00</td>\n",
       "    </tr>\n",
       "    <tr>\n",
       "      <th>Num_active_profiles</th>\n",
       "      <td>77884.00</td>\n",
       "      <td>3.00</td>\n",
       "      <td>1.41</td>\n",
       "      <td>1.00</td>\n",
       "      <td>1.00</td>\n",
       "      <td>2.00</td>\n",
       "      <td>3.00</td>\n",
       "      <td>4.00</td>\n",
       "      <td>5.00</td>\n",
       "      <td>5.00</td>\n",
       "    </tr>\n",
       "    <tr>\n",
       "      <th>Avg_rating</th>\n",
       "      <td>60614.00</td>\n",
       "      <td>3.00</td>\n",
       "      <td>1.15</td>\n",
       "      <td>1.00</td>\n",
       "      <td>1.04</td>\n",
       "      <td>1.99</td>\n",
       "      <td>3.01</td>\n",
       "      <td>4.00</td>\n",
       "      <td>4.96</td>\n",
       "      <td>5.00</td>\n",
       "    </tr>\n",
       "    <tr>\n",
       "      <th>Churned</th>\n",
       "      <td>61148.00</td>\n",
       "      <td>0.24</td>\n",
       "      <td>0.43</td>\n",
       "      <td>0.00</td>\n",
       "      <td>0.00</td>\n",
       "      <td>0.00</td>\n",
       "      <td>0.00</td>\n",
       "      <td>0.00</td>\n",
       "      <td>1.00</td>\n",
       "      <td>1.00</td>\n",
       "    </tr>\n",
       "  </tbody>\n",
       "</table>\n",
       "</div>"
      ],
      "text/plain": [
       "                          count    mean     std   min    1%     25%     50%   \n",
       "Age                    66607.00   43.51   15.04 18.00 18.00   30.00   43.00  \\\n",
       "Time_on_platform       56464.00 4385.85 2526.58  0.00 82.00 2196.00 4384.00   \n",
       "Devices_connected      52696.00    3.00    1.41  1.00  1.00    2.00    3.00   \n",
       "Num_streaming_services  9572.00    2.50    1.12  1.00  1.00    1.00    2.00   \n",
       "Num_active_profiles    77884.00    3.00    1.41  1.00  1.00    2.00    3.00   \n",
       "Avg_rating             60614.00    3.00    1.15  1.00  1.04    1.99    3.01   \n",
       "Churned                61148.00    0.24    0.43  0.00  0.00    0.00    0.00   \n",
       "\n",
       "                           75%     99%     max  \n",
       "Age                      57.00   69.00   69.00  \n",
       "Time_on_platform       6573.00 8675.00 8759.00  \n",
       "Devices_connected         4.00    5.00    5.00  \n",
       "Num_streaming_services    4.00    4.00    4.00  \n",
       "Num_active_profiles       4.00    5.00    5.00  \n",
       "Avg_rating                4.00    4.96    5.00  \n",
       "Churned                   0.00    1.00    1.00  "
      ]
     },
     "metadata": {},
     "output_type": "display_data"
    }
   ],
   "source": [
    "df_informations(df)"
   ]
  },
  {
   "attachments": {},
   "cell_type": "markdown",
   "metadata": {},
   "source": [
    "As informações **.describe** podem ser úteis para entender a dispersão e a tendência central dos dados.\n",
    "\n",
    "- <font color='chartreuse'>Média</font>: Representa a tendência central dos dados;\n",
    "- <font color='chartreuse'>Desvio Padrão</font>: Indica a dispersão, sugerindo uma variabilidade dos valores;\n",
    "- <font color='chartreuse'>Quartis</font>: Fornecem informações sobre a distribuição dos dados ao longo de diferentes partes; e\n",
    "- <font color='chartreuse'>Valor Mínimo e Máximo</font>: Indicam a faixa em que os dados estão concentrados."
   ]
  },
  {
   "attachments": {},
   "cell_type": "markdown",
   "metadata": {},
   "source": [
    "### Análise Gráfica"
   ]
  },
  {
   "cell_type": "code",
   "execution_count": 12,
   "metadata": {},
   "outputs": [],
   "source": [
    "#plot_distribution_and_boxplot(df)"
   ]
  },
  {
   "attachments": {},
   "cell_type": "markdown",
   "metadata": {},
   "source": [
    "## Etapa 02) Tratamento dos Dados (Data Preparation)\n",
    "1. Substituir valores “NaN” por 0 Colunas → Time_on_platform, Num_streaming_services, Churned, Avg_rating, Devices_connected\n",
    "   \n",
    "2. Dropar linhas nulas nas colunas Gender, Subscription_type e Age\n",
    "   \n",
    "3. Transformando valores churned 0 e 1 por No e Yes\n",
    "   \n",
    "4. Transformando valores floats em valores inteiros"
   ]
  },
  {
   "cell_type": "code",
   "execution_count": 13,
   "metadata": {},
   "outputs": [
    {
     "data": {
      "text/html": [
       "<div>\n",
       "<style scoped>\n",
       "    .dataframe tbody tr th:only-of-type {\n",
       "        vertical-align: middle;\n",
       "    }\n",
       "\n",
       "    .dataframe tbody tr th {\n",
       "        vertical-align: top;\n",
       "    }\n",
       "\n",
       "    .dataframe thead th {\n",
       "        text-align: right;\n",
       "    }\n",
       "</style>\n",
       "<table border=\"1\" class=\"dataframe\">\n",
       "  <thead>\n",
       "    <tr style=\"text-align: right;\">\n",
       "      <th></th>\n",
       "      <th>Age</th>\n",
       "      <th>Gender</th>\n",
       "      <th>Time_on_platform</th>\n",
       "      <th>Devices_connected</th>\n",
       "      <th>Subscription_type</th>\n",
       "      <th>Num_streaming_services</th>\n",
       "      <th>Num_active_profiles</th>\n",
       "      <th>Avg_rating</th>\n",
       "      <th>Churned</th>\n",
       "      <th>User_id</th>\n",
       "    </tr>\n",
       "  </thead>\n",
       "  <tbody>\n",
       "    <tr>\n",
       "      <th>0</th>\n",
       "      <td>49.00</td>\n",
       "      <td>Male</td>\n",
       "      <td>4700.00</td>\n",
       "      <td>3.00</td>\n",
       "      <td>Basic</td>\n",
       "      <td>NaN</td>\n",
       "      <td>3</td>\n",
       "      <td>NaN</td>\n",
       "      <td>0.00</td>\n",
       "      <td>a271aa56-bcfc-4f0a-91f7-b773de6b86a4</td>\n",
       "    </tr>\n",
       "    <tr>\n",
       "      <th>1</th>\n",
       "      <td>69.00</td>\n",
       "      <td>Female</td>\n",
       "      <td>6107.00</td>\n",
       "      <td>2.00</td>\n",
       "      <td>Standard</td>\n",
       "      <td>NaN</td>\n",
       "      <td>1</td>\n",
       "      <td>2.14</td>\n",
       "      <td>0.00</td>\n",
       "      <td>fe14b048-770b-4619-8ec6-485b0969ae31</td>\n",
       "    </tr>\n",
       "    <tr>\n",
       "      <th>2</th>\n",
       "      <td>44.00</td>\n",
       "      <td>Male</td>\n",
       "      <td>6374.00</td>\n",
       "      <td>3.00</td>\n",
       "      <td>Premium</td>\n",
       "      <td>1.00</td>\n",
       "      <td>1</td>\n",
       "      <td>1.91</td>\n",
       "      <td>1.00</td>\n",
       "      <td>0283dffd-6684-4a05-9c6f-c02098a6849d</td>\n",
       "    </tr>\n",
       "    <tr>\n",
       "      <th>3</th>\n",
       "      <td>26.00</td>\n",
       "      <td>Male</td>\n",
       "      <td>NaN</td>\n",
       "      <td>5.00</td>\n",
       "      <td>Basic</td>\n",
       "      <td>NaN</td>\n",
       "      <td>2</td>\n",
       "      <td>NaN</td>\n",
       "      <td>NaN</td>\n",
       "      <td>c316f2f5-3403-4a0a-82c2-c98e4b3379d2</td>\n",
       "    </tr>\n",
       "    <tr>\n",
       "      <th>4</th>\n",
       "      <td>18.00</td>\n",
       "      <td>NaN</td>\n",
       "      <td>1948.00</td>\n",
       "      <td>3.00</td>\n",
       "      <td>Basic</td>\n",
       "      <td>NaN</td>\n",
       "      <td>3</td>\n",
       "      <td>3.88</td>\n",
       "      <td>0.00</td>\n",
       "      <td>14879bcb-1977-4ad8-a7f9-6aa9bf7b872f</td>\n",
       "    </tr>\n",
       "    <tr>\n",
       "      <th>...</th>\n",
       "      <td>...</td>\n",
       "      <td>...</td>\n",
       "      <td>...</td>\n",
       "      <td>...</td>\n",
       "      <td>...</td>\n",
       "      <td>...</td>\n",
       "      <td>...</td>\n",
       "      <td>...</td>\n",
       "      <td>...</td>\n",
       "      <td>...</td>\n",
       "    </tr>\n",
       "    <tr>\n",
       "      <th>77879</th>\n",
       "      <td>45.00</td>\n",
       "      <td>Male</td>\n",
       "      <td>NaN</td>\n",
       "      <td>NaN</td>\n",
       "      <td>Basic</td>\n",
       "      <td>NaN</td>\n",
       "      <td>5</td>\n",
       "      <td>2.20</td>\n",
       "      <td>0.00</td>\n",
       "      <td>6b51fe0d-d4a1-41ed-a55c-d05f5c961e3c</td>\n",
       "    </tr>\n",
       "    <tr>\n",
       "      <th>77880</th>\n",
       "      <td>47.00</td>\n",
       "      <td>Female</td>\n",
       "      <td>6176.00</td>\n",
       "      <td>NaN</td>\n",
       "      <td>Premium</td>\n",
       "      <td>NaN</td>\n",
       "      <td>2</td>\n",
       "      <td>4.54</td>\n",
       "      <td>0.00</td>\n",
       "      <td>59d70167-6be0-474c-b71e-14153205b44f</td>\n",
       "    </tr>\n",
       "    <tr>\n",
       "      <th>77881</th>\n",
       "      <td>64.00</td>\n",
       "      <td>Female</td>\n",
       "      <td>NaN</td>\n",
       "      <td>5.00</td>\n",
       "      <td>Premium</td>\n",
       "      <td>NaN</td>\n",
       "      <td>1</td>\n",
       "      <td>4.34</td>\n",
       "      <td>1.00</td>\n",
       "      <td>a7d5ed26-78a4-4e70-bd04-0fec883e56aa</td>\n",
       "    </tr>\n",
       "    <tr>\n",
       "      <th>77882</th>\n",
       "      <td>58.00</td>\n",
       "      <td>Male</td>\n",
       "      <td>1314.00</td>\n",
       "      <td>5.00</td>\n",
       "      <td>Standard</td>\n",
       "      <td>NaN</td>\n",
       "      <td>4</td>\n",
       "      <td>NaN</td>\n",
       "      <td>0.00</td>\n",
       "      <td>472e9e70-87ca-4c5e-bfee-fa9f42b54f51</td>\n",
       "    </tr>\n",
       "    <tr>\n",
       "      <th>77883</th>\n",
       "      <td>68.00</td>\n",
       "      <td>Female</td>\n",
       "      <td>7078.00</td>\n",
       "      <td>1.00</td>\n",
       "      <td>Standard</td>\n",
       "      <td>NaN</td>\n",
       "      <td>5</td>\n",
       "      <td>1.68</td>\n",
       "      <td>0.00</td>\n",
       "      <td>f8450244-52b1-4303-9275-00a1d4fbc331</td>\n",
       "    </tr>\n",
       "  </tbody>\n",
       "</table>\n",
       "<p>77884 rows × 10 columns</p>\n",
       "</div>"
      ],
      "text/plain": [
       "        Age  Gender  Time_on_platform  Devices_connected Subscription_type   \n",
       "0     49.00    Male           4700.00               3.00             Basic  \\\n",
       "1     69.00  Female           6107.00               2.00          Standard   \n",
       "2     44.00    Male           6374.00               3.00           Premium   \n",
       "3     26.00    Male               NaN               5.00             Basic   \n",
       "4     18.00     NaN           1948.00               3.00             Basic   \n",
       "...     ...     ...               ...                ...               ...   \n",
       "77879 45.00    Male               NaN                NaN             Basic   \n",
       "77880 47.00  Female           6176.00                NaN           Premium   \n",
       "77881 64.00  Female               NaN               5.00           Premium   \n",
       "77882 58.00    Male           1314.00               5.00          Standard   \n",
       "77883 68.00  Female           7078.00               1.00          Standard   \n",
       "\n",
       "       Num_streaming_services  Num_active_profiles  Avg_rating  Churned   \n",
       "0                         NaN                    3         NaN     0.00  \\\n",
       "1                         NaN                    1        2.14     0.00   \n",
       "2                        1.00                    1        1.91     1.00   \n",
       "3                         NaN                    2         NaN      NaN   \n",
       "4                         NaN                    3        3.88     0.00   \n",
       "...                       ...                  ...         ...      ...   \n",
       "77879                     NaN                    5        2.20     0.00   \n",
       "77880                     NaN                    2        4.54     0.00   \n",
       "77881                     NaN                    1        4.34     1.00   \n",
       "77882                     NaN                    4         NaN     0.00   \n",
       "77883                     NaN                    5        1.68     0.00   \n",
       "\n",
       "                                    User_id  \n",
       "0      a271aa56-bcfc-4f0a-91f7-b773de6b86a4  \n",
       "1      fe14b048-770b-4619-8ec6-485b0969ae31  \n",
       "2      0283dffd-6684-4a05-9c6f-c02098a6849d  \n",
       "3      c316f2f5-3403-4a0a-82c2-c98e4b3379d2  \n",
       "4      14879bcb-1977-4ad8-a7f9-6aa9bf7b872f  \n",
       "...                                     ...  \n",
       "77879  6b51fe0d-d4a1-41ed-a55c-d05f5c961e3c  \n",
       "77880  59d70167-6be0-474c-b71e-14153205b44f  \n",
       "77881  a7d5ed26-78a4-4e70-bd04-0fec883e56aa  \n",
       "77882  472e9e70-87ca-4c5e-bfee-fa9f42b54f51  \n",
       "77883  f8450244-52b1-4303-9275-00a1d4fbc331  \n",
       "\n",
       "[77884 rows x 10 columns]"
      ]
     },
     "execution_count": 13,
     "metadata": {},
     "output_type": "execute_result"
    }
   ],
   "source": [
    "df"
   ]
  },
  {
   "cell_type": "code",
   "execution_count": 14,
   "metadata": {},
   "outputs": [
    {
     "data": {
      "text/html": [
       "<div>\n",
       "<style scoped>\n",
       "    .dataframe tbody tr th:only-of-type {\n",
       "        vertical-align: middle;\n",
       "    }\n",
       "\n",
       "    .dataframe tbody tr th {\n",
       "        vertical-align: top;\n",
       "    }\n",
       "\n",
       "    .dataframe thead th {\n",
       "        text-align: right;\n",
       "    }\n",
       "</style>\n",
       "<table border=\"1\" class=\"dataframe\">\n",
       "  <thead>\n",
       "    <tr style=\"text-align: right;\">\n",
       "      <th></th>\n",
       "      <th>Age</th>\n",
       "      <th>Gender</th>\n",
       "      <th>Time_on_platform</th>\n",
       "      <th>Devices_connected</th>\n",
       "      <th>Subscription_type</th>\n",
       "      <th>Num_streaming_services</th>\n",
       "      <th>Num_active_profiles</th>\n",
       "      <th>Avg_rating</th>\n",
       "      <th>Churned</th>\n",
       "      <th>User_id</th>\n",
       "      <th>Churned_str</th>\n",
       "    </tr>\n",
       "  </thead>\n",
       "  <tbody>\n",
       "    <tr>\n",
       "      <th>0</th>\n",
       "      <td>49</td>\n",
       "      <td>Male</td>\n",
       "      <td>4700</td>\n",
       "      <td>3</td>\n",
       "      <td>Basic</td>\n",
       "      <td>0</td>\n",
       "      <td>3</td>\n",
       "      <td>0</td>\n",
       "      <td>0</td>\n",
       "      <td>a271aa56-bcfc-4f0a-91f7-b773de6b86a4</td>\n",
       "      <td>No</td>\n",
       "    </tr>\n",
       "    <tr>\n",
       "      <th>1</th>\n",
       "      <td>69</td>\n",
       "      <td>Female</td>\n",
       "      <td>6107</td>\n",
       "      <td>2</td>\n",
       "      <td>Standard</td>\n",
       "      <td>0</td>\n",
       "      <td>1</td>\n",
       "      <td>2</td>\n",
       "      <td>0</td>\n",
       "      <td>fe14b048-770b-4619-8ec6-485b0969ae31</td>\n",
       "      <td>No</td>\n",
       "    </tr>\n",
       "    <tr>\n",
       "      <th>2</th>\n",
       "      <td>44</td>\n",
       "      <td>Male</td>\n",
       "      <td>6374</td>\n",
       "      <td>3</td>\n",
       "      <td>Premium</td>\n",
       "      <td>1</td>\n",
       "      <td>1</td>\n",
       "      <td>1</td>\n",
       "      <td>1</td>\n",
       "      <td>0283dffd-6684-4a05-9c6f-c02098a6849d</td>\n",
       "      <td>Yes</td>\n",
       "    </tr>\n",
       "    <tr>\n",
       "      <th>3</th>\n",
       "      <td>26</td>\n",
       "      <td>Male</td>\n",
       "      <td>0</td>\n",
       "      <td>5</td>\n",
       "      <td>Basic</td>\n",
       "      <td>0</td>\n",
       "      <td>2</td>\n",
       "      <td>0</td>\n",
       "      <td>0</td>\n",
       "      <td>c316f2f5-3403-4a0a-82c2-c98e4b3379d2</td>\n",
       "      <td>No</td>\n",
       "    </tr>\n",
       "    <tr>\n",
       "      <th>5</th>\n",
       "      <td>54</td>\n",
       "      <td>Male</td>\n",
       "      <td>3024</td>\n",
       "      <td>2</td>\n",
       "      <td>Basic</td>\n",
       "      <td>0</td>\n",
       "      <td>1</td>\n",
       "      <td>0</td>\n",
       "      <td>0</td>\n",
       "      <td>a1df3a13-9255-4d00-8a9d-20565fefaab9</td>\n",
       "      <td>No</td>\n",
       "    </tr>\n",
       "  </tbody>\n",
       "</table>\n",
       "</div>"
      ],
      "text/plain": [
       "   Age  Gender  Time_on_platform  Devices_connected Subscription_type   \n",
       "0   49    Male              4700                  3             Basic  \\\n",
       "1   69  Female              6107                  2          Standard   \n",
       "2   44    Male              6374                  3           Premium   \n",
       "3   26    Male                 0                  5             Basic   \n",
       "5   54    Male              3024                  2             Basic   \n",
       "\n",
       "   Num_streaming_services  Num_active_profiles  Avg_rating  Churned   \n",
       "0                       0                    3           0        0  \\\n",
       "1                       0                    1           2        0   \n",
       "2                       1                    1           1        1   \n",
       "3                       0                    2           0        0   \n",
       "5                       0                    1           0        0   \n",
       "\n",
       "                                User_id Churned_str  \n",
       "0  a271aa56-bcfc-4f0a-91f7-b773de6b86a4          No  \n",
       "1  fe14b048-770b-4619-8ec6-485b0969ae31          No  \n",
       "2  0283dffd-6684-4a05-9c6f-c02098a6849d         Yes  \n",
       "3  c316f2f5-3403-4a0a-82c2-c98e4b3379d2          No  \n",
       "5  a1df3a13-9255-4d00-8a9d-20565fefaab9          No  "
      ]
     },
     "execution_count": 14,
     "metadata": {},
     "output_type": "execute_result"
    }
   ],
   "source": [
    "# 1. Substituir valores “NaN” por 0 nas colunas especificadas\n",
    "cols_to_fill = ['Time_on_platform', 'Num_streaming_services', 'Churned', 'Avg_rating', 'Devices_connected']\n",
    "df[cols_to_fill] = df[cols_to_fill].fillna(0)\n",
    "\n",
    "# 2. Dropar linhas nulas nas colunas Gender, Subscription_type e Age\n",
    "cols_to_check = ['Gender', 'Subscription_type', 'Age']\n",
    "df = df.dropna(subset=cols_to_check)\n",
    "\n",
    "# 2.1 Dropar as linhas duplicadas\n",
    "df.drop_duplicates(inplace=True)\n",
    "\n",
    "# 3. Transformando valores churned 0 e 1 por No e Yes\n",
    "df['Churned_str'] = df['Churned'].map({0: 'No', 1: 'Yes'})\n",
    "\n",
    "# 4. Transformando valores floats em valores inteiros\n",
    "# Primeiro, precisamos identificar as colunas com valores float. \n",
    "float_cols = df.select_dtypes(include='float64').columns\n",
    "\n",
    "# Depois, transformamos cada uma delas em inteiros.\n",
    "for col in float_cols:\n",
    "    df[col] = df[col].astype(int)\n",
    "\n",
    "# Verificamos o resultado\n",
    "df.head()\n"
   ]
  },
  {
   "cell_type": "code",
   "execution_count": 15,
   "metadata": {},
   "outputs": [
    {
     "data": {
      "text/markdown": [
       "<H3 style='text-align:left;float:lfet;'>Informações sobre o Dataset"
      ],
      "text/plain": [
       "<IPython.core.display.Markdown object>"
      ]
     },
     "metadata": {},
     "output_type": "display_data"
    },
    {
     "data": {
      "text/markdown": [
       "<H5> Dataset tem 30739 linhas e 11 colunas. Não possui linhas duplicadas. Sobre o dataset, temos:"
      ],
      "text/plain": [
       "<IPython.core.display.Markdown object>"
      ]
     },
     "metadata": {},
     "output_type": "display_data"
    },
    {
     "data": {
      "text/html": [
       "<style type=\"text/css\">\n",
       "#T_7d778_row0_col2, #T_7d778_row1_col2, #T_7d778_row2_col2, #T_7d778_row3_col2, #T_7d778_row4_col2, #T_7d778_row5_col2, #T_7d778_row6_col2, #T_7d778_row7_col2, #T_7d778_row8_col2, #T_7d778_row9_col2, #T_7d778_row10_col2 {\n",
       "  background-color: #000080;\n",
       "  color: #f1f1f1;\n",
       "}\n",
       "</style>\n",
       "<table id=\"T_7d778\">\n",
       "  <thead>\n",
       "    <tr>\n",
       "      <th class=\"blank level0\" >&nbsp;</th>\n",
       "      <th id=\"T_7d778_level0_col0\" class=\"col_heading level0 col0\" >Not Null</th>\n",
       "      <th id=\"T_7d778_level0_col1\" class=\"col_heading level0 col1\" >Null</th>\n",
       "      <th id=\"T_7d778_level0_col2\" class=\"col_heading level0 col2\" >Perce Null</th>\n",
       "      <th id=\"T_7d778_level0_col3\" class=\"col_heading level0 col3\" >Unique</th>\n",
       "      <th id=\"T_7d778_level0_col4\" class=\"col_heading level0 col4\" >Dtype</th>\n",
       "    </tr>\n",
       "  </thead>\n",
       "  <tbody>\n",
       "    <tr>\n",
       "      <th id=\"T_7d778_level0_row0\" class=\"row_heading level0 row0\" >Age</th>\n",
       "      <td id=\"T_7d778_row0_col0\" class=\"data row0 col0\" >30739</td>\n",
       "      <td id=\"T_7d778_row0_col1\" class=\"data row0 col1\" >0</td>\n",
       "      <td id=\"T_7d778_row0_col2\" class=\"data row0 col2\" >0.00%</td>\n",
       "      <td id=\"T_7d778_row0_col3\" class=\"data row0 col3\" >52</td>\n",
       "      <td id=\"T_7d778_row0_col4\" class=\"data row0 col4\" >int32</td>\n",
       "    </tr>\n",
       "    <tr>\n",
       "      <th id=\"T_7d778_level0_row1\" class=\"row_heading level0 row1\" >Gender</th>\n",
       "      <td id=\"T_7d778_row1_col0\" class=\"data row1 col0\" >30739</td>\n",
       "      <td id=\"T_7d778_row1_col1\" class=\"data row1 col1\" >0</td>\n",
       "      <td id=\"T_7d778_row1_col2\" class=\"data row1 col2\" >0.00%</td>\n",
       "      <td id=\"T_7d778_row1_col3\" class=\"data row1 col3\" >2</td>\n",
       "      <td id=\"T_7d778_row1_col4\" class=\"data row1 col4\" >object</td>\n",
       "    </tr>\n",
       "    <tr>\n",
       "      <th id=\"T_7d778_level0_row2\" class=\"row_heading level0 row2\" >Time_on_platform</th>\n",
       "      <td id=\"T_7d778_row2_col0\" class=\"data row2 col0\" >30739</td>\n",
       "      <td id=\"T_7d778_row2_col1\" class=\"data row2 col1\" >0</td>\n",
       "      <td id=\"T_7d778_row2_col2\" class=\"data row2 col2\" >0.00%</td>\n",
       "      <td id=\"T_7d778_row2_col3\" class=\"data row2 col3\" >8069</td>\n",
       "      <td id=\"T_7d778_row2_col4\" class=\"data row2 col4\" >int32</td>\n",
       "    </tr>\n",
       "    <tr>\n",
       "      <th id=\"T_7d778_level0_row3\" class=\"row_heading level0 row3\" >Devices_connected</th>\n",
       "      <td id=\"T_7d778_row3_col0\" class=\"data row3 col0\" >30739</td>\n",
       "      <td id=\"T_7d778_row3_col1\" class=\"data row3 col1\" >0</td>\n",
       "      <td id=\"T_7d778_row3_col2\" class=\"data row3 col2\" >0.00%</td>\n",
       "      <td id=\"T_7d778_row3_col3\" class=\"data row3 col3\" >6</td>\n",
       "      <td id=\"T_7d778_row3_col4\" class=\"data row3 col4\" >int32</td>\n",
       "    </tr>\n",
       "    <tr>\n",
       "      <th id=\"T_7d778_level0_row4\" class=\"row_heading level0 row4\" >Subscription_type</th>\n",
       "      <td id=\"T_7d778_row4_col0\" class=\"data row4 col0\" >30739</td>\n",
       "      <td id=\"T_7d778_row4_col1\" class=\"data row4 col1\" >0</td>\n",
       "      <td id=\"T_7d778_row4_col2\" class=\"data row4 col2\" >0.00%</td>\n",
       "      <td id=\"T_7d778_row4_col3\" class=\"data row4 col3\" >3</td>\n",
       "      <td id=\"T_7d778_row4_col4\" class=\"data row4 col4\" >object</td>\n",
       "    </tr>\n",
       "    <tr>\n",
       "      <th id=\"T_7d778_level0_row5\" class=\"row_heading level0 row5\" >Num_streaming_services</th>\n",
       "      <td id=\"T_7d778_row5_col0\" class=\"data row5 col0\" >30739</td>\n",
       "      <td id=\"T_7d778_row5_col1\" class=\"data row5 col1\" >0</td>\n",
       "      <td id=\"T_7d778_row5_col2\" class=\"data row5 col2\" >0.00%</td>\n",
       "      <td id=\"T_7d778_row5_col3\" class=\"data row5 col3\" >5</td>\n",
       "      <td id=\"T_7d778_row5_col4\" class=\"data row5 col4\" >int32</td>\n",
       "    </tr>\n",
       "    <tr>\n",
       "      <th id=\"T_7d778_level0_row6\" class=\"row_heading level0 row6\" >Num_active_profiles</th>\n",
       "      <td id=\"T_7d778_row6_col0\" class=\"data row6 col0\" >30739</td>\n",
       "      <td id=\"T_7d778_row6_col1\" class=\"data row6 col1\" >0</td>\n",
       "      <td id=\"T_7d778_row6_col2\" class=\"data row6 col2\" >0.00%</td>\n",
       "      <td id=\"T_7d778_row6_col3\" class=\"data row6 col3\" >5</td>\n",
       "      <td id=\"T_7d778_row6_col4\" class=\"data row6 col4\" >int64</td>\n",
       "    </tr>\n",
       "    <tr>\n",
       "      <th id=\"T_7d778_level0_row7\" class=\"row_heading level0 row7\" >Avg_rating</th>\n",
       "      <td id=\"T_7d778_row7_col0\" class=\"data row7 col0\" >30739</td>\n",
       "      <td id=\"T_7d778_row7_col1\" class=\"data row7 col1\" >0</td>\n",
       "      <td id=\"T_7d778_row7_col2\" class=\"data row7 col2\" >0.00%</td>\n",
       "      <td id=\"T_7d778_row7_col3\" class=\"data row7 col3\" >6</td>\n",
       "      <td id=\"T_7d778_row7_col4\" class=\"data row7 col4\" >int32</td>\n",
       "    </tr>\n",
       "    <tr>\n",
       "      <th id=\"T_7d778_level0_row8\" class=\"row_heading level0 row8\" >Churned</th>\n",
       "      <td id=\"T_7d778_row8_col0\" class=\"data row8 col0\" >30739</td>\n",
       "      <td id=\"T_7d778_row8_col1\" class=\"data row8 col1\" >0</td>\n",
       "      <td id=\"T_7d778_row8_col2\" class=\"data row8 col2\" >0.00%</td>\n",
       "      <td id=\"T_7d778_row8_col3\" class=\"data row8 col3\" >2</td>\n",
       "      <td id=\"T_7d778_row8_col4\" class=\"data row8 col4\" >int32</td>\n",
       "    </tr>\n",
       "    <tr>\n",
       "      <th id=\"T_7d778_level0_row9\" class=\"row_heading level0 row9\" >User_id</th>\n",
       "      <td id=\"T_7d778_row9_col0\" class=\"data row9 col0\" >30739</td>\n",
       "      <td id=\"T_7d778_row9_col1\" class=\"data row9 col1\" >0</td>\n",
       "      <td id=\"T_7d778_row9_col2\" class=\"data row9 col2\" >0.00%</td>\n",
       "      <td id=\"T_7d778_row9_col3\" class=\"data row9 col3\" >30739</td>\n",
       "      <td id=\"T_7d778_row9_col4\" class=\"data row9 col4\" >object</td>\n",
       "    </tr>\n",
       "    <tr>\n",
       "      <th id=\"T_7d778_level0_row10\" class=\"row_heading level0 row10\" >Churned_str</th>\n",
       "      <td id=\"T_7d778_row10_col0\" class=\"data row10 col0\" >30739</td>\n",
       "      <td id=\"T_7d778_row10_col1\" class=\"data row10 col1\" >0</td>\n",
       "      <td id=\"T_7d778_row10_col2\" class=\"data row10 col2\" >0.00%</td>\n",
       "      <td id=\"T_7d778_row10_col3\" class=\"data row10 col3\" >2</td>\n",
       "      <td id=\"T_7d778_row10_col4\" class=\"data row10 col4\" >object</td>\n",
       "    </tr>\n",
       "  </tbody>\n",
       "</table>\n"
      ],
      "text/plain": [
       "<pandas.io.formats.style.Styler at 0x1e59625e110>"
      ]
     },
     "metadata": {},
     "output_type": "display_data"
    },
    {
     "data": {
      "text/markdown": [
       "<H3 style='text-align:left;float:lfet;'>Sobre Dtypes, temos:"
      ],
      "text/plain": [
       "<IPython.core.display.Markdown object>"
      ]
     },
     "metadata": {},
     "output_type": "display_data"
    },
    {
     "data": {
      "text/html": [
       "<style type=\"text/css\">\n",
       "#T_d0124_row0_col2 {\n",
       "  background-color: #004529;\n",
       "  color: #f1f1f1;\n",
       "}\n",
       "#T_d0124_row1_col2 {\n",
       "  background-color: #51b365;\n",
       "  color: #f1f1f1;\n",
       "}\n",
       "#T_d0124_row2_col2 {\n",
       "  background-color: #ffffe5;\n",
       "  color: #000000;\n",
       "}\n",
       "</style>\n",
       "<table id=\"T_d0124\">\n",
       "  <thead>\n",
       "    <tr>\n",
       "      <th class=\"blank level0\" >&nbsp;</th>\n",
       "      <th id=\"T_d0124_level0_col0\" class=\"col_heading level0 col0\" >Dtype</th>\n",
       "      <th id=\"T_d0124_level0_col1\" class=\"col_heading level0 col1\" >Count</th>\n",
       "      <th id=\"T_d0124_level0_col2\" class=\"col_heading level0 col2\" >Perce</th>\n",
       "    </tr>\n",
       "  </thead>\n",
       "  <tbody>\n",
       "    <tr>\n",
       "      <th id=\"T_d0124_level0_row0\" class=\"row_heading level0 row0\" >0</th>\n",
       "      <td id=\"T_d0124_row0_col0\" class=\"data row0 col0\" >int32</td>\n",
       "      <td id=\"T_d0124_row0_col1\" class=\"data row0 col1\" >6</td>\n",
       "      <td id=\"T_d0124_row0_col2\" class=\"data row0 col2\" >55.00%</td>\n",
       "    </tr>\n",
       "    <tr>\n",
       "      <th id=\"T_d0124_level0_row1\" class=\"row_heading level0 row1\" >1</th>\n",
       "      <td id=\"T_d0124_row1_col0\" class=\"data row1 col0\" >object</td>\n",
       "      <td id=\"T_d0124_row1_col1\" class=\"data row1 col1\" >4</td>\n",
       "      <td id=\"T_d0124_row1_col2\" class=\"data row1 col2\" >36.00%</td>\n",
       "    </tr>\n",
       "    <tr>\n",
       "      <th id=\"T_d0124_level0_row2\" class=\"row_heading level0 row2\" >2</th>\n",
       "      <td id=\"T_d0124_row2_col0\" class=\"data row2 col0\" >int64</td>\n",
       "      <td id=\"T_d0124_row2_col1\" class=\"data row2 col1\" >1</td>\n",
       "      <td id=\"T_d0124_row2_col2\" class=\"data row2 col2\" >9.00%</td>\n",
       "    </tr>\n",
       "  </tbody>\n",
       "</table>\n"
      ],
      "text/plain": [
       "<pandas.io.formats.style.Styler at 0x1e590e1efd0>"
      ]
     },
     "metadata": {},
     "output_type": "display_data"
    },
    {
     "data": {
      "text/markdown": [
       "<H3 style='text-align:left;float:lfet;'>Estatística Descritiva"
      ],
      "text/plain": [
       "<IPython.core.display.Markdown object>"
      ]
     },
     "metadata": {},
     "output_type": "display_data"
    },
    {
     "data": {
      "text/html": [
       "<div>\n",
       "<style scoped>\n",
       "    .dataframe tbody tr th:only-of-type {\n",
       "        vertical-align: middle;\n",
       "    }\n",
       "\n",
       "    .dataframe tbody tr th {\n",
       "        vertical-align: top;\n",
       "    }\n",
       "\n",
       "    .dataframe thead th {\n",
       "        text-align: right;\n",
       "    }\n",
       "</style>\n",
       "<table border=\"1\" class=\"dataframe\">\n",
       "  <thead>\n",
       "    <tr style=\"text-align: right;\">\n",
       "      <th></th>\n",
       "      <th>count</th>\n",
       "      <th>mean</th>\n",
       "      <th>std</th>\n",
       "      <th>min</th>\n",
       "      <th>1%</th>\n",
       "      <th>25%</th>\n",
       "      <th>50%</th>\n",
       "      <th>75%</th>\n",
       "      <th>99%</th>\n",
       "      <th>max</th>\n",
       "    </tr>\n",
       "  </thead>\n",
       "  <tbody>\n",
       "    <tr>\n",
       "      <th>Age</th>\n",
       "      <td>30739.00</td>\n",
       "      <td>43.52</td>\n",
       "      <td>15.09</td>\n",
       "      <td>18.00</td>\n",
       "      <td>18.00</td>\n",
       "      <td>30.00</td>\n",
       "      <td>43.00</td>\n",
       "      <td>57.00</td>\n",
       "      <td>69.00</td>\n",
       "      <td>69.00</td>\n",
       "    </tr>\n",
       "    <tr>\n",
       "      <th>Time_on_platform</th>\n",
       "      <td>30739.00</td>\n",
       "      <td>3171.18</td>\n",
       "      <td>2908.45</td>\n",
       "      <td>0.00</td>\n",
       "      <td>0.00</td>\n",
       "      <td>0.00</td>\n",
       "      <td>2713.00</td>\n",
       "      <td>5741.00</td>\n",
       "      <td>8634.62</td>\n",
       "      <td>8759.00</td>\n",
       "    </tr>\n",
       "    <tr>\n",
       "      <th>Devices_connected</th>\n",
       "      <td>30739.00</td>\n",
       "      <td>2.04</td>\n",
       "      <td>1.82</td>\n",
       "      <td>0.00</td>\n",
       "      <td>0.00</td>\n",
       "      <td>0.00</td>\n",
       "      <td>2.00</td>\n",
       "      <td>4.00</td>\n",
       "      <td>5.00</td>\n",
       "      <td>5.00</td>\n",
       "    </tr>\n",
       "    <tr>\n",
       "      <th>Num_streaming_services</th>\n",
       "      <td>30739.00</td>\n",
       "      <td>0.31</td>\n",
       "      <td>0.91</td>\n",
       "      <td>0.00</td>\n",
       "      <td>0.00</td>\n",
       "      <td>0.00</td>\n",
       "      <td>0.00</td>\n",
       "      <td>0.00</td>\n",
       "      <td>4.00</td>\n",
       "      <td>4.00</td>\n",
       "    </tr>\n",
       "    <tr>\n",
       "      <th>Num_active_profiles</th>\n",
       "      <td>30739.00</td>\n",
       "      <td>2.99</td>\n",
       "      <td>1.41</td>\n",
       "      <td>1.00</td>\n",
       "      <td>1.00</td>\n",
       "      <td>2.00</td>\n",
       "      <td>3.00</td>\n",
       "      <td>4.00</td>\n",
       "      <td>5.00</td>\n",
       "      <td>5.00</td>\n",
       "    </tr>\n",
       "    <tr>\n",
       "      <th>Avg_rating</th>\n",
       "      <td>30739.00</td>\n",
       "      <td>1.95</td>\n",
       "      <td>1.43</td>\n",
       "      <td>0.00</td>\n",
       "      <td>0.00</td>\n",
       "      <td>1.00</td>\n",
       "      <td>2.00</td>\n",
       "      <td>3.00</td>\n",
       "      <td>4.00</td>\n",
       "      <td>5.00</td>\n",
       "    </tr>\n",
       "    <tr>\n",
       "      <th>Churned</th>\n",
       "      <td>30739.00</td>\n",
       "      <td>0.19</td>\n",
       "      <td>0.40</td>\n",
       "      <td>0.00</td>\n",
       "      <td>0.00</td>\n",
       "      <td>0.00</td>\n",
       "      <td>0.00</td>\n",
       "      <td>0.00</td>\n",
       "      <td>1.00</td>\n",
       "      <td>1.00</td>\n",
       "    </tr>\n",
       "  </tbody>\n",
       "</table>\n",
       "</div>"
      ],
      "text/plain": [
       "                          count    mean     std   min    1%   25%     50%   \n",
       "Age                    30739.00   43.52   15.09 18.00 18.00 30.00   43.00  \\\n",
       "Time_on_platform       30739.00 3171.18 2908.45  0.00  0.00  0.00 2713.00   \n",
       "Devices_connected      30739.00    2.04    1.82  0.00  0.00  0.00    2.00   \n",
       "Num_streaming_services 30739.00    0.31    0.91  0.00  0.00  0.00    0.00   \n",
       "Num_active_profiles    30739.00    2.99    1.41  1.00  1.00  2.00    3.00   \n",
       "Avg_rating             30739.00    1.95    1.43  0.00  0.00  1.00    2.00   \n",
       "Churned                30739.00    0.19    0.40  0.00  0.00  0.00    0.00   \n",
       "\n",
       "                           75%     99%     max  \n",
       "Age                      57.00   69.00   69.00  \n",
       "Time_on_platform       5741.00 8634.62 8759.00  \n",
       "Devices_connected         4.00    5.00    5.00  \n",
       "Num_streaming_services    0.00    4.00    4.00  \n",
       "Num_active_profiles       4.00    5.00    5.00  \n",
       "Avg_rating                3.00    4.00    5.00  \n",
       "Churned                   0.00    1.00    1.00  "
      ]
     },
     "metadata": {},
     "output_type": "display_data"
    }
   ],
   "source": [
    "df_informations(df)"
   ]
  },
  {
   "cell_type": "code",
   "execution_count": 16,
   "metadata": {},
   "outputs": [],
   "source": [
    "col_categ = list(df.select_dtypes(\"object\").columns)\n",
    "col_num = list(df.select_dtypes(np.number).columns)"
   ]
  },
  {
   "attachments": {},
   "cell_type": "markdown",
   "metadata": {},
   "source": [
    "### Correlação"
   ]
  },
  {
   "attachments": {},
   "cell_type": "markdown",
   "metadata": {},
   "source": [
    "#### Definição de Correlação"
   ]
  },
  {
   "attachments": {},
   "cell_type": "markdown",
   "metadata": {},
   "source": [
    "A correlação é uma medida estatística que *avalia a relação entre duas variáveis*. Ela indica a direção e a intensidade dessa relação, ou seja, se as variáveis se movem em conjunto (correlação positiva) ou de forma oposta (correlação negativa), e o quão forte essa relação é.\n",
    "\n",
    "A força da correlação pode ser definida com base no valor do coeficiente de correlação, que varia de -1 a +1. Aqui estão as interpretações comuns para determinar a força da correlação:\n",
    "\n",
    "1. <font color='yellow'>**Correlação Fraca**:</font>\n",
    "    * Quando o coeficiente de correlação está próximo de 0, a correlação é considerada fraca.\n",
    "    * Seja ela positiva ou negativa, a relação entre as variáveis é considerada fraca se o coeficiente de correlação estiver próximo de zero (por exemplo, entre -0,3 e 0,3).\n",
    "    * Nesse caso, as variáveis têm uma associação limitada e seus movimentos não são consistentes.\n",
    "<br></br>\n",
    "2. <font color='orange'>**Correlação Média**:</font>\n",
    "    * Uma correlação é considerada média quando o coeficiente de correlação está em torno de -0,5 a -0,3 ou de 0,3 a 0,5.\n",
    "    * A relação entre as variáveis é moderada e mostra algum grau de consistência em seus movimentos.\n",
    "    * Uma correlação média indica que as variáveis têm alguma influência mútua, mas não é uma relação forte.\n",
    "<br></br>\n",
    "3. <font color='chartreuse'>**Correlação Forte**:</font>\n",
    "    * A correlação é considerada forte quando o coeficiente de correlação está próximo de -1 ou 1.\n",
    "    * Uma correlação positiva forte (próxima de +1) indica que as variáveis estão fortemente relacionadas e tendem a se mover na mesma direção.\n",
    "    * Uma correlação negativa forte (próxima de -1) indica que as variáveis estão fortemente relacionadas, mas se movem em direções opostas.\n",
    "    * Nesses casos, as variáveis têm uma associação consistente e os movimentos de uma variável estão altamente relacionados aos movimentos da outra.\n",
    "\n",
    "\n",
    "É importante destacar que a força da correlação pode variar de acordo com o contexto e o domínio dos dados. Além disso, a correlação não implica causalidade direta, ou seja, apenas porque duas variáveis estão correlacionadas, não significa que uma causa a outra."
   ]
  },
  {
   "attachments": {},
   "cell_type": "markdown",
   "metadata": {},
   "source": [
    "#### Matriz de Correlação"
   ]
  },
  {
   "cell_type": "code",
   "execution_count": 17,
   "metadata": {},
   "outputs": [
    {
     "data": {
      "application/vnd.plotly.v1+json": {
       "config": {
        "plotlyServerURL": "https://plot.ly"
       },
       "data": [
        {
         "colorscale": [
          [
           0,
           "#440154"
          ],
          [
           0.1111111111111111,
           "#482878"
          ],
          [
           0.2222222222222222,
           "#3e4989"
          ],
          [
           0.3333333333333333,
           "#31688e"
          ],
          [
           0.4444444444444444,
           "#26828e"
          ],
          [
           0.5555555555555556,
           "#1f9e89"
          ],
          [
           0.6666666666666666,
           "#35b779"
          ],
          [
           0.7777777777777778,
           "#6ece58"
          ],
          [
           0.8888888888888888,
           "#b5de2b"
          ],
          [
           1,
           "#fde725"
          ]
         ],
         "type": "heatmap",
         "x": [
          "Age",
          "Time_on_platform",
          "Devices_connected",
          "Num_streaming_services",
          "Num_active_profiles",
          "Avg_rating",
          "Churned"
         ],
         "y": [
          "Age",
          "Time_on_platform",
          "Devices_connected",
          "Num_streaming_services",
          "Num_active_profiles",
          "Avg_rating",
          "Churned"
         ],
         "z": [
          [
           1,
           -0.012070904618218232,
           -0.006290301028917176,
           -0.0016554194535999076,
           -0.005704068745684183,
           0.0027741859143485354,
           -0.0006578762029369779
          ],
          [
           -0.012070904618218232,
           1,
           -0.0004773936911103778,
           0.003906041279092382,
           0.0002907091315037088,
           -0.004780930618275943,
           -0.003168530156003591
          ],
          [
           -0.006290301028917176,
           -0.0004773936911103778,
           1,
           0.0008627056070358189,
           -0.004422960784659478,
           -0.00586060668451887,
           0.004016821494842967
          ],
          [
           -0.0016554194535999076,
           0.003906041279092382,
           0.0008627056070358189,
           1,
           -0.0045974660967487615,
           0.005896713726954921,
           0.00805023301986577
          ],
          [
           -0.005704068745684183,
           0.0002907091315037088,
           -0.004422960784659478,
           -0.0045974660967487615,
           1,
           0.0061426682704237975,
           0.0010445895898007875
          ],
          [
           0.0027741859143485354,
           -0.004780930618275943,
           -0.00586060668451887,
           0.005896713726954921,
           0.0061426682704237975,
           1,
           0.011128336584521835
          ],
          [
           -0.0006578762029369779,
           -0.003168530156003591,
           0.004016821494842967,
           0.00805023301986577,
           0.0010445895898007875,
           0.011128336584521835,
           1
          ]
         ]
        }
       ],
       "layout": {
        "annotations": [
         {
          "font": {
           "color": "white"
          },
          "showarrow": false,
          "text": "1.0",
          "x": "Age",
          "y": "Age"
         },
         {
          "font": {
           "color": "white"
          },
          "showarrow": false,
          "text": "-0.01",
          "x": "Time_on_platform",
          "y": "Age"
         },
         {
          "font": {
           "color": "white"
          },
          "showarrow": false,
          "text": "-0.01",
          "x": "Devices_connected",
          "y": "Age"
         },
         {
          "font": {
           "color": "white"
          },
          "showarrow": false,
          "text": "-0.0",
          "x": "Num_streaming_services",
          "y": "Age"
         },
         {
          "font": {
           "color": "white"
          },
          "showarrow": false,
          "text": "-0.01",
          "x": "Num_active_profiles",
          "y": "Age"
         },
         {
          "font": {
           "color": "white"
          },
          "showarrow": false,
          "text": "0.0",
          "x": "Avg_rating",
          "y": "Age"
         },
         {
          "font": {
           "color": "white"
          },
          "showarrow": false,
          "text": "-0.0",
          "x": "Churned",
          "y": "Age"
         },
         {
          "font": {
           "color": "white"
          },
          "showarrow": false,
          "text": "-0.01",
          "x": "Age",
          "y": "Time_on_platform"
         },
         {
          "font": {
           "color": "white"
          },
          "showarrow": false,
          "text": "1.0",
          "x": "Time_on_platform",
          "y": "Time_on_platform"
         },
         {
          "font": {
           "color": "white"
          },
          "showarrow": false,
          "text": "-0.0",
          "x": "Devices_connected",
          "y": "Time_on_platform"
         },
         {
          "font": {
           "color": "white"
          },
          "showarrow": false,
          "text": "0.0",
          "x": "Num_streaming_services",
          "y": "Time_on_platform"
         },
         {
          "font": {
           "color": "white"
          },
          "showarrow": false,
          "text": "0.0",
          "x": "Num_active_profiles",
          "y": "Time_on_platform"
         },
         {
          "font": {
           "color": "white"
          },
          "showarrow": false,
          "text": "-0.0",
          "x": "Avg_rating",
          "y": "Time_on_platform"
         },
         {
          "font": {
           "color": "white"
          },
          "showarrow": false,
          "text": "-0.0",
          "x": "Churned",
          "y": "Time_on_platform"
         },
         {
          "font": {
           "color": "white"
          },
          "showarrow": false,
          "text": "-0.01",
          "x": "Age",
          "y": "Devices_connected"
         },
         {
          "font": {
           "color": "white"
          },
          "showarrow": false,
          "text": "-0.0",
          "x": "Time_on_platform",
          "y": "Devices_connected"
         },
         {
          "font": {
           "color": "white"
          },
          "showarrow": false,
          "text": "1.0",
          "x": "Devices_connected",
          "y": "Devices_connected"
         },
         {
          "font": {
           "color": "white"
          },
          "showarrow": false,
          "text": "0.0",
          "x": "Num_streaming_services",
          "y": "Devices_connected"
         },
         {
          "font": {
           "color": "white"
          },
          "showarrow": false,
          "text": "-0.0",
          "x": "Num_active_profiles",
          "y": "Devices_connected"
         },
         {
          "font": {
           "color": "white"
          },
          "showarrow": false,
          "text": "-0.01",
          "x": "Avg_rating",
          "y": "Devices_connected"
         },
         {
          "font": {
           "color": "white"
          },
          "showarrow": false,
          "text": "0.0",
          "x": "Churned",
          "y": "Devices_connected"
         },
         {
          "font": {
           "color": "white"
          },
          "showarrow": false,
          "text": "-0.0",
          "x": "Age",
          "y": "Num_streaming_services"
         },
         {
          "font": {
           "color": "white"
          },
          "showarrow": false,
          "text": "0.0",
          "x": "Time_on_platform",
          "y": "Num_streaming_services"
         },
         {
          "font": {
           "color": "white"
          },
          "showarrow": false,
          "text": "0.0",
          "x": "Devices_connected",
          "y": "Num_streaming_services"
         },
         {
          "font": {
           "color": "white"
          },
          "showarrow": false,
          "text": "1.0",
          "x": "Num_streaming_services",
          "y": "Num_streaming_services"
         },
         {
          "font": {
           "color": "white"
          },
          "showarrow": false,
          "text": "-0.0",
          "x": "Num_active_profiles",
          "y": "Num_streaming_services"
         },
         {
          "font": {
           "color": "white"
          },
          "showarrow": false,
          "text": "0.01",
          "x": "Avg_rating",
          "y": "Num_streaming_services"
         },
         {
          "font": {
           "color": "white"
          },
          "showarrow": false,
          "text": "0.01",
          "x": "Churned",
          "y": "Num_streaming_services"
         },
         {
          "font": {
           "color": "white"
          },
          "showarrow": false,
          "text": "-0.01",
          "x": "Age",
          "y": "Num_active_profiles"
         },
         {
          "font": {
           "color": "white"
          },
          "showarrow": false,
          "text": "0.0",
          "x": "Time_on_platform",
          "y": "Num_active_profiles"
         },
         {
          "font": {
           "color": "white"
          },
          "showarrow": false,
          "text": "-0.0",
          "x": "Devices_connected",
          "y": "Num_active_profiles"
         },
         {
          "font": {
           "color": "white"
          },
          "showarrow": false,
          "text": "-0.0",
          "x": "Num_streaming_services",
          "y": "Num_active_profiles"
         },
         {
          "font": {
           "color": "white"
          },
          "showarrow": false,
          "text": "1.0",
          "x": "Num_active_profiles",
          "y": "Num_active_profiles"
         },
         {
          "font": {
           "color": "white"
          },
          "showarrow": false,
          "text": "0.01",
          "x": "Avg_rating",
          "y": "Num_active_profiles"
         },
         {
          "font": {
           "color": "white"
          },
          "showarrow": false,
          "text": "0.0",
          "x": "Churned",
          "y": "Num_active_profiles"
         },
         {
          "font": {
           "color": "white"
          },
          "showarrow": false,
          "text": "0.0",
          "x": "Age",
          "y": "Avg_rating"
         },
         {
          "font": {
           "color": "white"
          },
          "showarrow": false,
          "text": "-0.0",
          "x": "Time_on_platform",
          "y": "Avg_rating"
         },
         {
          "font": {
           "color": "white"
          },
          "showarrow": false,
          "text": "-0.01",
          "x": "Devices_connected",
          "y": "Avg_rating"
         },
         {
          "font": {
           "color": "white"
          },
          "showarrow": false,
          "text": "0.01",
          "x": "Num_streaming_services",
          "y": "Avg_rating"
         },
         {
          "font": {
           "color": "white"
          },
          "showarrow": false,
          "text": "0.01",
          "x": "Num_active_profiles",
          "y": "Avg_rating"
         },
         {
          "font": {
           "color": "white"
          },
          "showarrow": false,
          "text": "1.0",
          "x": "Avg_rating",
          "y": "Avg_rating"
         },
         {
          "font": {
           "color": "white"
          },
          "showarrow": false,
          "text": "0.01",
          "x": "Churned",
          "y": "Avg_rating"
         },
         {
          "font": {
           "color": "white"
          },
          "showarrow": false,
          "text": "-0.0",
          "x": "Age",
          "y": "Churned"
         },
         {
          "font": {
           "color": "white"
          },
          "showarrow": false,
          "text": "-0.0",
          "x": "Time_on_platform",
          "y": "Churned"
         },
         {
          "font": {
           "color": "white"
          },
          "showarrow": false,
          "text": "0.0",
          "x": "Devices_connected",
          "y": "Churned"
         },
         {
          "font": {
           "color": "white"
          },
          "showarrow": false,
          "text": "0.01",
          "x": "Num_streaming_services",
          "y": "Churned"
         },
         {
          "font": {
           "color": "white"
          },
          "showarrow": false,
          "text": "0.0",
          "x": "Num_active_profiles",
          "y": "Churned"
         },
         {
          "font": {
           "color": "white"
          },
          "showarrow": false,
          "text": "0.01",
          "x": "Avg_rating",
          "y": "Churned"
         },
         {
          "font": {
           "color": "white"
          },
          "showarrow": false,
          "text": "1.0",
          "x": "Churned",
          "y": "Churned"
         }
        ],
        "height": 500,
        "template": {
         "data": {
          "bar": [
           {
            "error_x": {
             "color": "#2a3f5f"
            },
            "error_y": {
             "color": "#2a3f5f"
            },
            "marker": {
             "line": {
              "color": "#E5ECF6",
              "width": 0.5
             },
             "pattern": {
              "fillmode": "overlay",
              "size": 10,
              "solidity": 0.2
             }
            },
            "type": "bar"
           }
          ],
          "barpolar": [
           {
            "marker": {
             "line": {
              "color": "#E5ECF6",
              "width": 0.5
             },
             "pattern": {
              "fillmode": "overlay",
              "size": 10,
              "solidity": 0.2
             }
            },
            "type": "barpolar"
           }
          ],
          "carpet": [
           {
            "aaxis": {
             "endlinecolor": "#2a3f5f",
             "gridcolor": "white",
             "linecolor": "white",
             "minorgridcolor": "white",
             "startlinecolor": "#2a3f5f"
            },
            "baxis": {
             "endlinecolor": "#2a3f5f",
             "gridcolor": "white",
             "linecolor": "white",
             "minorgridcolor": "white",
             "startlinecolor": "#2a3f5f"
            },
            "type": "carpet"
           }
          ],
          "choropleth": [
           {
            "colorbar": {
             "outlinewidth": 0,
             "ticks": ""
            },
            "type": "choropleth"
           }
          ],
          "contour": [
           {
            "colorbar": {
             "outlinewidth": 0,
             "ticks": ""
            },
            "colorscale": [
             [
              0,
              "#0d0887"
             ],
             [
              0.1111111111111111,
              "#46039f"
             ],
             [
              0.2222222222222222,
              "#7201a8"
             ],
             [
              0.3333333333333333,
              "#9c179e"
             ],
             [
              0.4444444444444444,
              "#bd3786"
             ],
             [
              0.5555555555555556,
              "#d8576b"
             ],
             [
              0.6666666666666666,
              "#ed7953"
             ],
             [
              0.7777777777777778,
              "#fb9f3a"
             ],
             [
              0.8888888888888888,
              "#fdca26"
             ],
             [
              1,
              "#f0f921"
             ]
            ],
            "type": "contour"
           }
          ],
          "contourcarpet": [
           {
            "colorbar": {
             "outlinewidth": 0,
             "ticks": ""
            },
            "type": "contourcarpet"
           }
          ],
          "heatmap": [
           {
            "colorbar": {
             "outlinewidth": 0,
             "ticks": ""
            },
            "colorscale": [
             [
              0,
              "#0d0887"
             ],
             [
              0.1111111111111111,
              "#46039f"
             ],
             [
              0.2222222222222222,
              "#7201a8"
             ],
             [
              0.3333333333333333,
              "#9c179e"
             ],
             [
              0.4444444444444444,
              "#bd3786"
             ],
             [
              0.5555555555555556,
              "#d8576b"
             ],
             [
              0.6666666666666666,
              "#ed7953"
             ],
             [
              0.7777777777777778,
              "#fb9f3a"
             ],
             [
              0.8888888888888888,
              "#fdca26"
             ],
             [
              1,
              "#f0f921"
             ]
            ],
            "type": "heatmap"
           }
          ],
          "heatmapgl": [
           {
            "colorbar": {
             "outlinewidth": 0,
             "ticks": ""
            },
            "colorscale": [
             [
              0,
              "#0d0887"
             ],
             [
              0.1111111111111111,
              "#46039f"
             ],
             [
              0.2222222222222222,
              "#7201a8"
             ],
             [
              0.3333333333333333,
              "#9c179e"
             ],
             [
              0.4444444444444444,
              "#bd3786"
             ],
             [
              0.5555555555555556,
              "#d8576b"
             ],
             [
              0.6666666666666666,
              "#ed7953"
             ],
             [
              0.7777777777777778,
              "#fb9f3a"
             ],
             [
              0.8888888888888888,
              "#fdca26"
             ],
             [
              1,
              "#f0f921"
             ]
            ],
            "type": "heatmapgl"
           }
          ],
          "histogram": [
           {
            "marker": {
             "pattern": {
              "fillmode": "overlay",
              "size": 10,
              "solidity": 0.2
             }
            },
            "type": "histogram"
           }
          ],
          "histogram2d": [
           {
            "colorbar": {
             "outlinewidth": 0,
             "ticks": ""
            },
            "colorscale": [
             [
              0,
              "#0d0887"
             ],
             [
              0.1111111111111111,
              "#46039f"
             ],
             [
              0.2222222222222222,
              "#7201a8"
             ],
             [
              0.3333333333333333,
              "#9c179e"
             ],
             [
              0.4444444444444444,
              "#bd3786"
             ],
             [
              0.5555555555555556,
              "#d8576b"
             ],
             [
              0.6666666666666666,
              "#ed7953"
             ],
             [
              0.7777777777777778,
              "#fb9f3a"
             ],
             [
              0.8888888888888888,
              "#fdca26"
             ],
             [
              1,
              "#f0f921"
             ]
            ],
            "type": "histogram2d"
           }
          ],
          "histogram2dcontour": [
           {
            "colorbar": {
             "outlinewidth": 0,
             "ticks": ""
            },
            "colorscale": [
             [
              0,
              "#0d0887"
             ],
             [
              0.1111111111111111,
              "#46039f"
             ],
             [
              0.2222222222222222,
              "#7201a8"
             ],
             [
              0.3333333333333333,
              "#9c179e"
             ],
             [
              0.4444444444444444,
              "#bd3786"
             ],
             [
              0.5555555555555556,
              "#d8576b"
             ],
             [
              0.6666666666666666,
              "#ed7953"
             ],
             [
              0.7777777777777778,
              "#fb9f3a"
             ],
             [
              0.8888888888888888,
              "#fdca26"
             ],
             [
              1,
              "#f0f921"
             ]
            ],
            "type": "histogram2dcontour"
           }
          ],
          "mesh3d": [
           {
            "colorbar": {
             "outlinewidth": 0,
             "ticks": ""
            },
            "type": "mesh3d"
           }
          ],
          "parcoords": [
           {
            "line": {
             "colorbar": {
              "outlinewidth": 0,
              "ticks": ""
             }
            },
            "type": "parcoords"
           }
          ],
          "pie": [
           {
            "automargin": true,
            "type": "pie"
           }
          ],
          "scatter": [
           {
            "fillpattern": {
             "fillmode": "overlay",
             "size": 10,
             "solidity": 0.2
            },
            "type": "scatter"
           }
          ],
          "scatter3d": [
           {
            "line": {
             "colorbar": {
              "outlinewidth": 0,
              "ticks": ""
             }
            },
            "marker": {
             "colorbar": {
              "outlinewidth": 0,
              "ticks": ""
             }
            },
            "type": "scatter3d"
           }
          ],
          "scattercarpet": [
           {
            "marker": {
             "colorbar": {
              "outlinewidth": 0,
              "ticks": ""
             }
            },
            "type": "scattercarpet"
           }
          ],
          "scattergeo": [
           {
            "marker": {
             "colorbar": {
              "outlinewidth": 0,
              "ticks": ""
             }
            },
            "type": "scattergeo"
           }
          ],
          "scattergl": [
           {
            "marker": {
             "colorbar": {
              "outlinewidth": 0,
              "ticks": ""
             }
            },
            "type": "scattergl"
           }
          ],
          "scattermapbox": [
           {
            "marker": {
             "colorbar": {
              "outlinewidth": 0,
              "ticks": ""
             }
            },
            "type": "scattermapbox"
           }
          ],
          "scatterpolar": [
           {
            "marker": {
             "colorbar": {
              "outlinewidth": 0,
              "ticks": ""
             }
            },
            "type": "scatterpolar"
           }
          ],
          "scatterpolargl": [
           {
            "marker": {
             "colorbar": {
              "outlinewidth": 0,
              "ticks": ""
             }
            },
            "type": "scatterpolargl"
           }
          ],
          "scatterternary": [
           {
            "marker": {
             "colorbar": {
              "outlinewidth": 0,
              "ticks": ""
             }
            },
            "type": "scatterternary"
           }
          ],
          "surface": [
           {
            "colorbar": {
             "outlinewidth": 0,
             "ticks": ""
            },
            "colorscale": [
             [
              0,
              "#0d0887"
             ],
             [
              0.1111111111111111,
              "#46039f"
             ],
             [
              0.2222222222222222,
              "#7201a8"
             ],
             [
              0.3333333333333333,
              "#9c179e"
             ],
             [
              0.4444444444444444,
              "#bd3786"
             ],
             [
              0.5555555555555556,
              "#d8576b"
             ],
             [
              0.6666666666666666,
              "#ed7953"
             ],
             [
              0.7777777777777778,
              "#fb9f3a"
             ],
             [
              0.8888888888888888,
              "#fdca26"
             ],
             [
              1,
              "#f0f921"
             ]
            ],
            "type": "surface"
           }
          ],
          "table": [
           {
            "cells": {
             "fill": {
              "color": "#EBF0F8"
             },
             "line": {
              "color": "white"
             }
            },
            "header": {
             "fill": {
              "color": "#C8D4E3"
             },
             "line": {
              "color": "white"
             }
            },
            "type": "table"
           }
          ]
         },
         "layout": {
          "annotationdefaults": {
           "arrowcolor": "#2a3f5f",
           "arrowhead": 0,
           "arrowwidth": 1
          },
          "autotypenumbers": "strict",
          "coloraxis": {
           "colorbar": {
            "outlinewidth": 0,
            "ticks": ""
           }
          },
          "colorscale": {
           "diverging": [
            [
             0,
             "#8e0152"
            ],
            [
             0.1,
             "#c51b7d"
            ],
            [
             0.2,
             "#de77ae"
            ],
            [
             0.3,
             "#f1b6da"
            ],
            [
             0.4,
             "#fde0ef"
            ],
            [
             0.5,
             "#f7f7f7"
            ],
            [
             0.6,
             "#e6f5d0"
            ],
            [
             0.7,
             "#b8e186"
            ],
            [
             0.8,
             "#7fbc41"
            ],
            [
             0.9,
             "#4d9221"
            ],
            [
             1,
             "#276419"
            ]
           ],
           "sequential": [
            [
             0,
             "#0d0887"
            ],
            [
             0.1111111111111111,
             "#46039f"
            ],
            [
             0.2222222222222222,
             "#7201a8"
            ],
            [
             0.3333333333333333,
             "#9c179e"
            ],
            [
             0.4444444444444444,
             "#bd3786"
            ],
            [
             0.5555555555555556,
             "#d8576b"
            ],
            [
             0.6666666666666666,
             "#ed7953"
            ],
            [
             0.7777777777777778,
             "#fb9f3a"
            ],
            [
             0.8888888888888888,
             "#fdca26"
            ],
            [
             1,
             "#f0f921"
            ]
           ],
           "sequentialminus": [
            [
             0,
             "#0d0887"
            ],
            [
             0.1111111111111111,
             "#46039f"
            ],
            [
             0.2222222222222222,
             "#7201a8"
            ],
            [
             0.3333333333333333,
             "#9c179e"
            ],
            [
             0.4444444444444444,
             "#bd3786"
            ],
            [
             0.5555555555555556,
             "#d8576b"
            ],
            [
             0.6666666666666666,
             "#ed7953"
            ],
            [
             0.7777777777777778,
             "#fb9f3a"
            ],
            [
             0.8888888888888888,
             "#fdca26"
            ],
            [
             1,
             "#f0f921"
            ]
           ]
          },
          "colorway": [
           "#636efa",
           "#EF553B",
           "#00cc96",
           "#ab63fa",
           "#FFA15A",
           "#19d3f3",
           "#FF6692",
           "#B6E880",
           "#FF97FF",
           "#FECB52"
          ],
          "font": {
           "color": "#2a3f5f"
          },
          "geo": {
           "bgcolor": "white",
           "lakecolor": "white",
           "landcolor": "#E5ECF6",
           "showlakes": true,
           "showland": true,
           "subunitcolor": "white"
          },
          "hoverlabel": {
           "align": "left"
          },
          "hovermode": "closest",
          "mapbox": {
           "style": "light"
          },
          "paper_bgcolor": "white",
          "plot_bgcolor": "#E5ECF6",
          "polar": {
           "angularaxis": {
            "gridcolor": "white",
            "linecolor": "white",
            "ticks": ""
           },
           "bgcolor": "#E5ECF6",
           "radialaxis": {
            "gridcolor": "white",
            "linecolor": "white",
            "ticks": ""
           }
          },
          "scene": {
           "xaxis": {
            "backgroundcolor": "#E5ECF6",
            "gridcolor": "white",
            "gridwidth": 2,
            "linecolor": "white",
            "showbackground": true,
            "ticks": "",
            "zerolinecolor": "white"
           },
           "yaxis": {
            "backgroundcolor": "#E5ECF6",
            "gridcolor": "white",
            "gridwidth": 2,
            "linecolor": "white",
            "showbackground": true,
            "ticks": "",
            "zerolinecolor": "white"
           },
           "zaxis": {
            "backgroundcolor": "#E5ECF6",
            "gridcolor": "white",
            "gridwidth": 2,
            "linecolor": "white",
            "showbackground": true,
            "ticks": "",
            "zerolinecolor": "white"
           }
          },
          "shapedefaults": {
           "line": {
            "color": "#2a3f5f"
           }
          },
          "ternary": {
           "aaxis": {
            "gridcolor": "white",
            "linecolor": "white",
            "ticks": ""
           },
           "baxis": {
            "gridcolor": "white",
            "linecolor": "white",
            "ticks": ""
           },
           "bgcolor": "#E5ECF6",
           "caxis": {
            "gridcolor": "white",
            "linecolor": "white",
            "ticks": ""
           }
          },
          "title": {
           "x": 0.05
          },
          "xaxis": {
           "automargin": true,
           "gridcolor": "white",
           "linecolor": "white",
           "ticks": "",
           "title": {
            "standoff": 15
           },
           "zerolinecolor": "white",
           "zerolinewidth": 2
          },
          "yaxis": {
           "automargin": true,
           "gridcolor": "white",
           "linecolor": "white",
           "ticks": "",
           "title": {
            "standoff": 15
           },
           "zerolinecolor": "white",
           "zerolinewidth": 2
          }
         }
        },
        "title": {
         "text": "Matriz de Correlação"
        },
        "width": 600
       }
      }
     },
     "metadata": {},
     "output_type": "display_data"
    }
   ],
   "source": [
    "# Matriz de Correlação\n",
    "correlation_matrix = df[col_num].corr()\n",
    "\n",
    "# Cria o gráfico de heatmap\n",
    "fig = go.Figure(data=go.Heatmap(\n",
    "                   z=correlation_matrix,\n",
    "                   x=correlation_matrix.columns,\n",
    "                   y=correlation_matrix.columns,\n",
    "                   colorscale='Viridis'))\n",
    "\n",
    "# Adiciona anotações\n",
    "annotations = []\n",
    "for i, row in enumerate(correlation_matrix.values):\n",
    "    for j, val in enumerate(row):\n",
    "        annotations.append(go.layout.Annotation(text=str(round(val, 2)), x=correlation_matrix.columns[j], y=correlation_matrix.columns[i], \n",
    "                                                showarrow=False, font=dict(color='white')))\n",
    "\n",
    "# Atualiza layout\n",
    "fig.update_layout(title='Matriz de Correlação',\n",
    "                  annotations=annotations,\n",
    "                  height=500, width=600)\n",
    "\n",
    "fig.show()\n"
   ]
  },
  {
   "attachments": {},
   "cell_type": "markdown",
   "metadata": {},
   "source": [
    "Explicado o que é correlação, podemos observar que:\n",
    "\n",
    "1. A correlação entre \"youtube\" e \"sales\" é de 0.78, o que indica uma correlação positiva forte. Isso sugere que há uma forte relação entre o investimento no YouTube e as vendas. Aumento nas vendas tendem a estar associados ao aumento de investimento no YouTube.\n",
    "\n",
    "2. A correlação entre \"facebook\" e \"sales\" é de 0.60, o que indica uma correlação positiva forte. Isso sugere que há uma relação forte entre o investimento no Facebook e as vendas. Aumentos nas vendas tendem a estar associados ao aumento de investimento no Facebook.\n",
    "\n",
    "3. A correlação entre \"newspaper\" e \"sales\" é de 0.25, o que indica uma correlação positiva fraca. Isso sugere que há uma relação fraca entre o investimento em newspaper e as vendas. A influência dos newspaper nas vendas é limitada, pois a correlação é relativamente baixa."
   ]
  },
  {
   "attachments": {},
   "cell_type": "markdown",
   "metadata": {},
   "source": [
    "#### Scatter plot: Sales vs Investimento"
   ]
  },
  {
   "cell_type": "code",
   "execution_count": null,
   "metadata": {},
   "outputs": [],
   "source": [
    "# Reestrutura os dados para um formato longo\n",
    "df_melted = df.melt(id_vars='sales', var_name='platform', value_name='investment')\n",
    "\n",
    "# Cria um dicionário com os símbolos para cada plataforma\n",
    "symbols = {'youtube': 'circle', 'facebook': 'diamond', 'newspaper': 'square'}\n",
    "\n",
    "# Cria o gráfico de dispersão\n",
    "fig = px.scatter(df_melted, x='investment', y='sales', color='platform', \n",
    "                 symbol=df_melted['platform'].map(symbols), \n",
    "                 title='Scatter plot: Sales vs Investimento',\n",
    "                 labels={'investment':'Investimento', 'sales':'Sales'}, \n",
    "                 hover_data=['platform', 'investment', 'sales'])\n",
    "\n",
    "fig.show()\n"
   ]
  },
  {
   "attachments": {},
   "cell_type": "markdown",
   "metadata": {},
   "source": [
    "Analisando o Scatter plot é possível observar que é necessário desprender ou investir muito mais dinheiro no Youtube para ter o mesmo retorno que as demais plataformas. Em contra partida o Facebook e Newspaper possuem uma distribuição semelhante, onde a relação Sales vs Investimento é mais vantajosa, sendo necessário despender menos dinheiro para um retorno maior."
   ]
  },
  {
   "attachments": {},
   "cell_type": "markdown",
   "metadata": {},
   "source": [
    "### Outliers"
   ]
  },
  {
   "attachments": {},
   "cell_type": "markdown",
   "metadata": {},
   "source": [
    "#### Definição de Outliers"
   ]
  },
  {
   "attachments": {},
   "cell_type": "markdown",
   "metadata": {},
   "source": [
    "Outliers são valores em um conjunto de dados que são significativamente diferentes dos outros. Eles são valores extremos que se desviam da média e das medidas padrão do conjunto de dados.\n",
    "\n",
    "Para identificar outliers em um conjunto de dados, você pode usar vários métodos. Aqui estão algumas opções populares:\n",
    "\n",
    "1. **Gráficos Boxplot**\n",
    "   \n",
    "2. **Z-Score**\n",
    "   \n",
    "3. **Desvio absoluto mediano (MAD)**\n",
    "   \n",
    "4. <font color='orange'>**Regra do IQR (Interquartile Range)**</font>\n",
    "\n",
    "A análise de outliers é crucial para uma análise de dados precisa, pois outliers podem distorcer os resultados. Boxplots são uma ferramenta gráfica comum para identificar outliers, baseando-se no Intervalo Interquartil (IQR).\n",
    "\n",
    "Apesar da facilidade de identificar outliers visualmente em boxplots, elaborei uma função para calcular numericamente o IQR e os limites de outliers. Essa função nos permite entender melhor o processo de detecção de outliers.\n",
    "\n",
    "Apesar de útil, não é necessário calcular manualmente esses valores sempre. Ferramentas como boxplots fazem isso automaticamente, facilitando a identificação de outliers. Na sequência, utilizaremos boxplots para visualizar a presença de outliers em nossos dados.\n",
    "\n",
    "O IQR é a diferença entre o terceiro quartil (Q3) e o primeiro quartil (Q1) dos dados. Qualquer ponto de dados que esteja abaixo de <font color='orange'>**Q1-1.5IQR**</font> ou acima de <font color='orange'>**Q3+1.5IQR**</font> pode ser considerado um outlier."
   ]
  },
  {
   "attachments": {},
   "cell_type": "markdown",
   "metadata": {},
   "source": [
    "#### Cálculo dos Outliers"
   ]
  },
  {
   "cell_type": "code",
   "execution_count": null,
   "metadata": {},
   "outputs": [],
   "source": [
    "# Usando a função no DataFrame df\n",
    "iqr_df = calculate_iqr(df[['youtube', 'facebook', 'newspaper', 'sales']])\n",
    "iqr_df\n"
   ]
  },
  {
   "attachments": {},
   "cell_type": "markdown",
   "metadata": {},
   "source": [
    "Os outliers são valores que desviam notavelmente do restante dos dados. No contexto do IQR, outliers são aqueles valores que estão **abaixo** do \"Lower Bound\" ou **acima** do \"Upper Bound\". Assim, na tabela IQR que geramos, qualquer valor da coluna \"Min\" menor que o respectivo \"Lower Bound\" e qualquer valor da coluna \"Max\" maior que o respectivo \"Upper Bound\" são considerados outliers."
   ]
  },
  {
   "cell_type": "code",
   "execution_count": null,
   "metadata": {},
   "outputs": [],
   "source": [
    "# Usando a função com nosso DataFrame df\n",
    "plot_boxplots(df[['youtube', 'facebook', 'newspaper', 'sales']])\n"
   ]
  },
  {
   "attachments": {},
   "cell_type": "markdown",
   "metadata": {},
   "source": [
    "Ao analisar os boxplots das nossas variáveis 'youtube', 'facebook', 'newspaper' e 'sales', notamos que apenas a variável 'newspaper' apresenta outliers. No entanto, essa quantidade de outliers parece ser pequena e, portanto, é improvável que cause um impacto significativo em nossa análise posterior ou distorça nossos resultados."
   ]
  },
  {
   "attachments": {},
   "cell_type": "markdown",
   "metadata": {},
   "source": [
    "## Etapa 03)  Modelagem dos Dados - Regressão Logística\n",
    "a. Definir variáveis X e y para o modelo\n",
    "\n",
    "b. Realizar o .fit do modelo\n",
    "\n",
    "c. Separar em train e test\n",
    "\n",
    "d. Realizar a modelagem\n",
    "\n",
    "e. Plotar matrix confusão\n",
    "\n",
    "f. Printar métricas"
   ]
  },
  {
   "attachments": {},
   "cell_type": "markdown",
   "metadata": {},
   "source": [
    "### Definição de Regressão Linear"
   ]
  },
  {
   "attachments": {},
   "cell_type": "markdown",
   "metadata": {},
   "source": [
    "#### Regressão Linear Simples"
   ]
  },
  {
   "attachments": {},
   "cell_type": "markdown",
   "metadata": {},
   "source": [
    "A regressão linear é uma técnica estatística que tenta modelar a relação entre uma variável dependente (também conhecida como variável de resposta) e uma ou mais variáveis independentes (também conhecidas como variáveis preditoras) por meio de uma equação linear. Na regressão linear simples (com uma variável independente), essa relação é modelada como uma linha reta (daí o termo \"linear\"). Em regressão linear múltipla (com mais de uma variável independente), essa relação é modelada como um hiperplano.\n",
    "\n",
    "Vamos pensar na regressão linear simples por um momento. A equação básica que estamos tentando resolver é:\n",
    "\n",
    "<font color='orange'>**<center>y = mx + b</center>**</font>\n",
    "\n",
    "Onde:\n",
    "- <font color='orange'>***y***</font> é a variável dependente; \n",
    "- <font color='orange'>***x***</font> é a variável independente; \n",
    "- <font color='orange'>***m***</font> é a inclinação da linha de regressão (representa o efeito de <font color='orange'>***x***</font> sobre <font color='orange'>***y***</font>);\n",
    "- <font color='orange'>***b***</font> é a interceptação (representa o valor de <font color='orange'>***y***</font> quando <font color='orange'>***x***</font> é 0).\n",
    "\n",
    "A regressão linear, em sua essência, é um método para encontrar os melhores valores para m e b. E quando dizemos \"melhor\", estamos falando em termos de minimizar a distância entre a linha de regressão (os valores previstos de y para qualquer valor de x) e os pontos de dados reais.\n",
    "\n",
    "Abaixo eu criei um GIF que demonstra o comportamento da reta quando alteramos os valores de <font color='orange'>***m***</font> e <font color='orange'>***b***</font> de um Regressão Linear Simples (com <font color='RED'>**UMA**</font> variável independente)."
   ]
  },
  {
   "cell_type": "code",
   "execution_count": null,
   "metadata": {},
   "outputs": [],
   "source": [
    "Image(url='GIF Linear Regression.gif')"
   ]
  },
  {
   "attachments": {},
   "cell_type": "markdown",
   "metadata": {},
   "source": [
    "#### Regressão Linear Múltipla"
   ]
  },
  {
   "attachments": {},
   "cell_type": "markdown",
   "metadata": {},
   "source": [
    "Passando para a regressão linear múltipla, a ideia básica é a mesma, mas a matemática se torna um pouco mais complicada. Agora, em vez de termos apenas um m e um b, temos um coeficiente para cada variável independente e uma interceptação. Então, nossa equação se parece com:\n",
    "\n",
    "<font color='orange'>**<center>y = β₀ + β₁x₁ + β₂x₂ + ... + βₙxₙ + ε</center>**</font>\n",
    "\n",
    "Onde:\n",
    "- <font color='orange'>***y***</font> é a variável dependente, ou seja, a variável que estamos tentando prever ou estimar; \n",
    "- <font color='orange'>***β₀***</font> é o termo de interceptação. Ele representa o valor esperado de Y quando todas as variáveis independentes (Xs) são iguais a zero; \n",
    "- <font color='orange'>***β₁, β₂, ..., βₙ***</font> são os coeficientes de regressão. Eles representam a mudança esperada na variável dependente (Y) para cada mudança de uma unidade na respectiva variável independente, mantendo todas as outras variáveis independentes constantes;\n",
    "- <font color='orange'>***x₁, x₂, ..., xₙ***</font> são as variáveis independentes, ou seja, as variáveis que usamos para prever ou estimar Y.\n",
    "- <font color='orange'>***ε***</font> é o termo de erro, também conhecido como resíduos. Ele representa a diferença entre o valor real e o valor previsto de Y.\n",
    "\n",
    "Quando estamos trabalhando com regressão linear múltipla, estamos tentando ajustar um modelo a um conjunto de dados que tem múltiplas variáveis independentes, que resultam em uma dimensão adicional para cada variável adicional.\n",
    "\n",
    "Uma maneira de visualizar isso é imaginar que estamos tentando ajustar um plano em um espaço tridimensional em vez de uma linha em um espaço bidimensional. Se você tiver duas variáveis independentes, poderá visualizá-las ao longo de dois eixos (digamos x e y), e a variável dependente ao longo de um terceiro eixo (digamos z). Nesse caso, o \"ajuste\" mais próximo dos pontos de dados seria um plano que minimiza a distância entre os pontos de dados e o próprio plano.\n",
    "\n",
    "**_Agora, se houvesse mais de duas variáveis independentes, o mesmo conceito se aplica, mas seria mais difícil visualizar porque estaríamos trabalhando em mais de três dimensões. No entanto, a matemática subjacente é a mesma: estamos tentando encontrar o \"plano\" (ou, mais tecnicamente, o hiperplano) que minimiza a distância entre os pontos de dados e o próprio hiperplano._**\n",
    "\n",
    "Abaixo eu criei um gráfico 3D para demonstrar o comportamento de uma Regressão Linear Múltipla (com <font color='RED'>**DUAS**</font> variável independente)."
   ]
  },
  {
   "cell_type": "code",
   "execution_count": null,
   "metadata": {},
   "outputs": [],
   "source": [
    "# Gerando dados aleatórios para o exemplo\n",
    "np.random.seed(0)\n",
    "x1 = np.random.rand(100, 1)\n",
    "x2 = np.random.rand(100, 1)\n",
    "y2 = 3*x1 + 2*x2 + np.random.rand(100, 1)\n",
    "\n",
    "# Modelo de regressão linear múltipla\n",
    "model = LinearRegression()\n",
    "model.fit(np.hstack([x1, x2]), y2)\n",
    "\n",
    "# Você precisa chamar a função com os coeficientes obtidos do modelo.\n",
    "update_graph2(model.coef_[0][0], model.coef_[0][1], model.intercept_[0])"
   ]
  },
  {
   "attachments": {},
   "cell_type": "markdown",
   "metadata": {},
   "source": [
    "### Separando em conjuntos de Treino e Teste"
   ]
  },
  {
   "cell_type": "code",
   "execution_count": null,
   "metadata": {},
   "outputs": [],
   "source": [
    "# Crie um novo dataframe df_model\n",
    "df_model = df[['youtube', 'facebook', 'newspaper', 'sales']].copy()\n",
    "\n",
    "# Antes da divisão, criei uma nova coluna chamada 'split'\n",
    "df_model['split'] = 'train'\n",
    "\n",
    "# Dividindo o conjunto de dados\n",
    "X = df_model[['youtube', 'facebook', 'newspaper']]\n",
    "y = df_model['sales']\n",
    "\n",
    "# Dividindo os dados em conjuntos de treino e teste\n",
    "X_train, X_test, y_train, y_test = train_test_split(X, y, test_size=0.20, random_state=42)\n",
    "\n",
    "# Indique que os dados em X_test estão na partição de teste\n",
    "df_model.loc[X_test.index, 'split'] = 'test'\n",
    "\n",
    "# Verificando os tamanhos dos conjuntos de treino e teste\n",
    "print(\"Treino:\", X_train.shape, y_train.shape)\n",
    "print(\"Teste:\", X_test.shape, y_test.shape)"
   ]
  },
  {
   "cell_type": "code",
   "execution_count": null,
   "metadata": {},
   "outputs": [],
   "source": [
    "df_model"
   ]
  },
  {
   "attachments": {},
   "cell_type": "markdown",
   "metadata": {},
   "source": [
    "## Etapa 04) Modelagem dos Dados - Tunning\n",
    "a. Definir variáveis X e y para o modelo\n",
    "\n",
    "b. Realizar o .fit do modelo\n",
    "\n",
    "c. Separar em train e test\n",
    "\n",
    "d. Realizar a modelagem\n",
    "\n",
    "e. Plotar matrix confusão\n",
    "\n",
    "f. Printar métricas"
   ]
  },
  {
   "attachments": {},
   "cell_type": "markdown",
   "metadata": {},
   "source": [
    "#### Treinando o Modelo"
   ]
  },
  {
   "attachments": {},
   "cell_type": "markdown",
   "metadata": {},
   "source": [
    "O método ***.fit()*** é usado para treinar ou ajustar o modelo aos seus dados de treinamento. Em outras palavras, é aqui que o modelo aprende os padrões nos dados.\n",
    "\n",
    "No caso de um modelo de regressão linear, o processo de ajuste envolve aprender os coeficientes que minimizam a soma dos erros quadrados entre os valores reais e os valores previstos pelo modelo. Para isso, o modelo usa o método dos mínimos quadrados.\n",
    "\n",
    "Então, quando chamamos ***model.fit(X_train, y_train)***, estamos dizendo ao modelo para encontrar os melhores parâmetros (coeficientes de regressão) que mapeiam as variáveis independentes ***X_train*** para a variável dependente ***y_train*** com o menor erro.\n",
    "\n",
    "Uma vez que o modelo foi treinado usando ***.fit()***, ele pode ser usado para fazer previsões em novos dados usando o método ***.predict()***. Nesse ponto, o modelo aplica os coeficientes de regressão que aprendeu durante o treinamento para prever a variável dependente a partir das variáveis independentes nos novos dados."
   ]
  },
  {
   "cell_type": "code",
   "execution_count": null,
   "metadata": {},
   "outputs": [],
   "source": [
    "# Treinando o modelo\n",
    "model = LinearRegression()\n",
    "model.fit(X_train, y_train)\n",
    "\n",
    "# Crie as previsões\n",
    "y_train_pred = model.predict(X_train)\n",
    "y_test_pred = model.predict(X_test)"
   ]
  },
  {
   "attachments": {},
   "cell_type": "markdown",
   "metadata": {},
   "source": [
    "Ao aplicar o método ***predict*** aos dados de treinamento **(X_train)**, estamos gerando previsões para os dados que foram usados para treinar o modelo. Essas previsões podem ser comparadas com os valores reais **(y_train)** para avaliar o quão bem o nosso modelo aprendeu os padrões nos dados de treinamento. Esta é uma forma de avaliar a precisão do treinamento do nosso modelo.\n",
    "\n",
    "Por outro lado, quando aplicamos o método ***predict*** aos dados de teste **(X_test)**, estamos gerando previsões para novos dados que o modelo ainda não viu. Comparando essas previsões com os valores reais **(y_test)**, podemos avaliar a capacidade do nosso modelo de generalizar para novos dados. Esta é uma medida da precisão de teste do nosso modelo."
   ]
  },
  {
   "cell_type": "code",
   "execution_count": null,
   "metadata": {},
   "outputs": [],
   "source": [
    "# Adicionando as previsões ao dataframe\n",
    "df_model.loc[X_train.index, 'prediction'] = y_train_pred\n",
    "df_model.loc[X_test.index, 'prediction'] = y_test_pred\n",
    "\n",
    "df_model"
   ]
  },
  {
   "cell_type": "code",
   "execution_count": null,
   "metadata": {},
   "outputs": [],
   "source": [
    "tabela = pd.DataFrame()\n",
    "tabela[\"y_teste\"] = y_test.values\n",
    "tabela[\"Previsoes Regressao Linear\"] = y_test_pred\n",
    "\n",
    "# Calcula os resíduos\n",
    "tabela[\"Residuos\"] = tabela[\"y_teste\"] - tabela[\"Previsoes Regressao Linear\"]\n",
    "\n",
    "# Cria o objeto Figure\n",
    "fig = go.Figure()\n",
    "\n",
    "# Adiciona uma linha para os valores reais\n",
    "fig.add_trace(go.Scatter(y=tabela['y_teste'], mode='lines', name='Valores Reais'))\n",
    "\n",
    "# Adiciona uma linha para os valores previstos\n",
    "fig.add_trace(go.Scatter(y=tabela['Previsoes Regressao Linear'], mode='lines', name='Previsoes Regressao Linear'))\n",
    "\n",
    "# Adiciona uma linha para os resíduos\n",
    "fig.add_trace(go.Scatter(y=tabela['Residuos'], mode='lines', name='Resíduos'))\n",
    "\n",
    "# Adiciona título e rótulos de eixo\n",
    "fig.update_layout(\n",
    "    title='Valores Reais vs Previstos vs Resíduos',\n",
    "    xaxis=dict(title='Índice'),\n",
    "    yaxis=dict(title='Vendas')\n",
    ")\n",
    "\n",
    "# Mostra o gráfico\n",
    "fig.show()\n"
   ]
  },
  {
   "attachments": {},
   "cell_type": "markdown",
   "metadata": {},
   "source": [
    "**Interpretação do Gráfico**\n",
    "\n",
    "* A linha \"Valores Reais\" mostra os valores reais de venda que foram observados no conjunto de dados de teste.\n",
    "\n",
    "* A linha \"Previsões da Regressão Linear\" mostra os valores de venda que foram previstos pelo nosso modelo de regressão linear a partir das variáveis independentes no conjunto de dados de teste.\n",
    "\n",
    "* A linha \"Resíduos\" mostra a diferença entre os valores reais e os previstos, também conhecida como erro de previsão ou resíduo.\n",
    "\n",
    "Comparando as linhas de \"Valores Reais\" e \"Previsões da Regressão Linear\", podemos ter uma ideia de quão bem o nosso modelo de regressão está funcionando. Idealmente, queremos que essas duas linhas estejam o mais próximas possível, o que indicaria que o nosso modelo está fazendo boas previsões.\n",
    "\n",
    "A linha de \"Resíduos\" nos permite ver a magnitude dos erros de previsão. Valores próximos de zero indicam boas previsões, enquanto valores grandes (positivos ou negativos) indicam previsões ruins. Se vemos muitos valores grandes na linha de \"Resíduos\", isso pode ser um sinal de que o nosso modelo de regressão pode ser melhorado."
   ]
  },
  {
   "cell_type": "code",
   "execution_count": null,
   "metadata": {},
   "outputs": [],
   "source": [
    "# Scatter plot\n",
    "fig = px.scatter(\n",
    "    df_model, x='sales', y='prediction',\n",
    "    marginal_x='histogram', marginal_y='histogram',\n",
    "    color='split', trendline='ols'\n",
    ")\n",
    "fig.update_traces(histnorm='probability', selector={'type':'histogram'})\n",
    "fig.add_shape(\n",
    "    type=\"line\", line=dict(dash='dash'),\n",
    "    x0=y.min(), y0=y.min(),\n",
    "    x1=y.max(), y1=y.max()\n",
    ")\n",
    "\n",
    "fig.show()"
   ]
  },
  {
   "attachments": {},
   "cell_type": "markdown",
   "metadata": {},
   "source": [
    "**Interpretação do Gráfico**\n",
    "\n",
    "* Os pontos representam as observações. Os pontos coloridos representam se a observação pertence ao conjunto de treinamento (azul) ou ao conjunto de teste (vermelho).\n",
    "  \n",
    "* O histograma na margem superior mostra a distribuição das vendas reais e o histograma na margem direita mostra a distribuição das vendas previstas.\n",
    "  \n",
    "* A linha tracejada preta representa a linha de perfeita igualdade (y = x), ou seja, os pontos que caem nessa linha são aqueles para os quais a venda real é igual à venda prevista. Idealmente, queremos que nossos pontos fiquem o mais próximos possível dessa linha.\n",
    "  \n",
    "* A linha de tendência azul (ols - ordinary least squares) é a linha de melhor ajuste para o conjunto de treinamento, minimizando a soma dos quadrados dos resíduos (ou erros).\n",
    "  \n",
    "* A linha de tendência vermelha é a linha de melhor ajuste para o conjunto de teste.\n",
    "\n",
    "\n",
    "No geral, este gráfico nos permite ver quão bem o nosso modelo de regressão está prevendo as vendas. Se o modelo é bom, os pontos devem estar próximos da linha tracejada preta (linha de perfeita igualdade) e as linhas de tendência azul e vermelha devem ser semelhantes."
   ]
  },
  {
   "attachments": {},
   "cell_type": "markdown",
   "metadata": {},
   "source": [
    "#### Avaliação do Modelo"
   ]
  },
  {
   "attachments": {},
   "cell_type": "markdown",
   "metadata": {},
   "source": [
    "O Root Mean Square Error (RMSE) e o coeficiente de determinação (R²) são duas métricas comumente usadas para avaliar a performance de um modelo de regressão."
   ]
  },
  {
   "attachments": {},
   "cell_type": "markdown",
   "metadata": {},
   "source": [
    "##### Root Mean Square Error (RMSE)"
   ]
  },
  {
   "attachments": {},
   "cell_type": "markdown",
   "metadata": {},
   "source": [
    "O RMSE é uma medida de erro que compara os valores previstos por um modelo com os valores reais. Ele é calculado ao se tomar a média dos quadrados dos erros, e em seguida tirando a raiz quadrada. Essa métrica dá uma ideia da quantidade de erro que o sistema normalmente comete em suas previsões, com um maior peso para erros maiores. Uma vantagem do RMSE é que o erro é expresso na mesma unidade que a variável de saída (y).\n",
    "\n",
    "Passo a passo de como o RMSE é calculado:\n",
    "\n",
    "1. <font color='orange'>**Erro de Previsão:**</font> Para cada ponto de dados, você calcula a diferença entre a previsão do modelo e o valor real. Se o seu modelo previu um valor de 10 para uma determinada observação, mas o valor real é 12, o erro de previsão é -2 (10-12). Se a previsão fosse 14, o erro seria 2 (14-12).\n",
    "\n",
    "2. <font color='orange'>**Quadrado do Erro de Previsão:**</font> Em seguida, você eleva ao quadrado cada erro de previsão. Fazemos isso por dois motivos: \n",
    "   \n",
    "   * <font color='orange'>Primeiro:</font> para garantir que todos os erros sejam positivos (a diferença -2 e a diferença 2 têm o mesmo impacto). \n",
    "   * <font color='orange'>Segundo:</font> para dar mais peso a erros maiores. No exemplo anterior, o quadrado de -2 é 4 e o quadrado de 2 é 4.\n",
    "<br></br>\n",
    "3. <font color='orange'>**Média dos Quadrados dos Erros:**</font> Em seguida, você calcula a média de todos os quadrados dos erros de previsão. Isso é conhecido como ***Mean Squared Error (MSE)***. Se você teve 5 previsões, e os quadrados dos erros foram [4, 4, 9, 4, 1], o MSE seria a soma desses números dividida por 5, que é 22/5 = 4.4.\n",
    "\n",
    "4. <font color='orange'>**Raiz Quadrada da Média dos Quadrados dos Erros:**</font> Finalmente, você tira a raiz quadrada do MSE para obter o RMSE e para trazer o erro de volta às unidades originais do output. Ao elevar ao quadrado os erros, como fazemos ao calcular o MSE, estamos efetivamente colocando os erros em termos de suas unidades ao quadrado. Isso pode ser um pouco abstrato e difícil de interpretar. No exemplo anterior, a raiz quadrada de 4.4 é aproximadamente 2.097.\n",
    "\n",
    "Portanto, um RMSE de 2.097 significaria que, em média, as previsões do modelo estão cerca de 2.097 unidades distantes dos valores reais. Quanto menor o RMSE, melhor o modelo é capaz de prever os dados."
   ]
  },
  {
   "attachments": {},
   "cell_type": "markdown",
   "metadata": {},
   "source": [
    "##### R²"
   ]
  },
  {
   "attachments": {},
   "cell_type": "markdown",
   "metadata": {},
   "source": [
    "O coeficiente de determinação, ou R², é uma medida estatística que indica a proporção da variação na variável dependente que é previsível a partir da(s) variável(is) independente(s). Em outras palavras, R² é uma medida de quão bem as previsões do modelo se ajustam aos dados reais. O valor de R² varia entre 0 e 1, onde 1 indica que o modelo explica toda a variabilidade dos dados em torno da média.\n",
    "\n",
    "Passo a passo de como o R² é calculado:\n",
    "\n",
    "<font color='orange'>**<center>R² = 1 - (Soma dos Quadrados dos Resíduos / Soma Total dos Quadrados)</center>**</font>\n",
    "\n",
    "Vamos supor que temos os seguintes valores reais de Y: [3, -0.5, 2, 7] e suas previsões correspondentes do modelo são: [2.5, 0.0, 2, 8].\n",
    "\n",
    "1. <font color='orange'>**Calcule a média de Y:**</font> neste caso, a média é (3 - 0.5 + 2 + 7)/4 = 2.875.\n",
    "\n",
    "2. <font color='orange'>**Calcule a soma total dos quadrados (SST):**</font> que é a soma das diferenças quadradas entre cada valor de Y e a média de Y. Para nosso exemplo, a SST é (3-2.875)² + (-0.5-2.875)² + (2-2.875)² + (7-2.875)² = 30.375.\n",
    "\n",
    "3. <font color='orange'>**Calcule a soma dos quadrados dos resíduos (SSR):**</font> que é a soma das diferenças quadradas entre cada valor de Y e a previsão correspondente do modelo. Para nosso exemplo, a SSR é (3-2.5)² + (-0.5-0.0)² + (2-2)² + (7-8)² = 1.5.\n",
    "\n",
    "4. <font color='orange'>**R²:**</font> é calculado como 1 - (SSR/SST). Então, nosso R² é 1 - (1.5/30.375) = 0.951.\n",
    "\n",
    "Um R² de 0.951 indica que 95.1% da variação total em Y é explicada pelo modelo, o que é um bom ajuste."
   ]
  },
  {
   "attachments": {},
   "cell_type": "markdown",
   "metadata": {},
   "source": [
    "### Conclusão Etapa 4 - Avaliação do Modelo"
   ]
  },
  {
   "cell_type": "code",
   "execution_count": null,
   "metadata": {},
   "outputs": [],
   "source": [
    "# Calcular o RMSE\n",
    "rmse_train = np.sqrt(mean_squared_error(y_train, y_train_pred))\n",
    "rmse_test = np.sqrt(mean_squared_error(y_test, y_test_pred))\n",
    "\n",
    "print(f\"RMSE no conjunto de treinamento: {rmse_train:.2f}\")\n",
    "print(f\"RMSE no conjunto de teste: {rmse_test:.2f}\")"
   ]
  },
  {
   "cell_type": "code",
   "execution_count": null,
   "metadata": {},
   "outputs": [],
   "source": [
    "# Calcular o R²\n",
    "r2_train = r2_score(y_train, y_train_pred)\n",
    "r2_test = r2_score(y_test, y_test_pred)\n",
    "\n",
    "print(f\"R² no conjunto de treinamento: {r2_train:.2f}\")\n",
    "print(f\"R² no conjunto de teste: {r2_test:.2f}\")"
   ]
  },
  {
   "cell_type": "code",
   "execution_count": null,
   "metadata": {},
   "outputs": [],
   "source": [
    "# Obtendo os coeficientes\n",
    "coef = model.coef_\n",
    "\n",
    "# Transformando em porcentagem\n",
    "coef_percent = coef * 100\n",
    "\n",
    "# Formatando os coeficientes para remover a notação científica\n",
    "formatted_coef = ['{:.2f}%'.format(i) for i in coef_percent]\n",
    "\n",
    "# Associando cada coeficiente à sua feature correspondente\n",
    "features = ['youtube', 'facebook', 'newspaper']\n",
    "results = dict(zip(features, formatted_coef))\n",
    "\n",
    "# Imprimindo os resultados\n",
    "for feature, coef in results.items():\n",
    "    print(f'{feature} - {coef}')\n"
   ]
  },
  {
   "attachments": {},
   "cell_type": "markdown",
   "metadata": {},
   "source": [
    "Com base nos resultados, podemos concluir que:\n",
    "\n",
    "1. O modelo apresentou bom desempenho, com RMSE de 1.89 no treino e 2.36 no teste, indicando pequena diferença entre os valores previstos e reais.\n",
    "\n",
    "2. O alto R² (0.91 treino e 0.87 teste) sugere que o modelo explica uma grande parte da variação nos dados.\n",
    "\n",
    "3. Em relação aos coeficientes:\n",
    "\n",
    "   * Para cada aumento de uma unidade em youtube, espera-se que as sales aumentem, em média, 4.42% (assumindo que todas as outras variáveis permaneçam constantes).\n",
    "  \n",
    "   * Para cada aumento de uma unidade em facebook, espera-se que as sales aumentem, em média, 19.45% (assumindo que todas as outras variáveis permaneçam constantes).\n",
    "  \n",
    "   * Para cada aumento de uma unidade em newspaper, espera-se que as sales diminuam, em média, 0.49% (assumindo que todas as outras variáveis permaneçam constantes).\n",
    "\n",
    "Em suma, o modelo de regressão linear é eficaz em prever as vendas baseado nos investimentos em publicidade e os resultados da análise sugerem que a plataforma do **Facebook** pode ser a mais eficaz para gerar vendas a partir do investimento em publicidade, dada a sua maior correlação com as vendas (representada pelo coeficiente de 19.45%). Isso sugere que cada unidade de aumento no investimento em publicidade no Facebook poderia resultar, em média, em um aumento de 19.45% nas vendas, supondo que todas as outras variáveis permaneçam constantes."
   ]
  },
  {
   "attachments": {},
   "cell_type": "markdown",
   "metadata": {},
   "source": [
    "## Etapa 05) Modelagem dos Dados - Random Forest\n",
    "a. Realizar a montagem do grid search\n",
    "\n",
    "b. Realizar o .fit do modelo\n",
    "\n",
    "c. Realizar o Tunning\n",
    "\n",
    "d. Realizar a modelagem\n",
    "\n",
    "e. Plotar matrix confusão\n",
    "\n",
    "f. Printar métricas"
   ]
  }
 ],
 "metadata": {
  "kernelspec": {
   "display_name": "Python 3",
   "language": "python",
   "name": "python3"
  },
  "language_info": {
   "codemirror_mode": {
    "name": "ipython",
    "version": 3
   },
   "file_extension": ".py",
   "mimetype": "text/x-python",
   "name": "python",
   "nbconvert_exporter": "python",
   "pygments_lexer": "ipython3",
   "version": "3.11.3"
  },
  "orig_nbformat": 4
 },
 "nbformat": 4,
 "nbformat_minor": 2
}
